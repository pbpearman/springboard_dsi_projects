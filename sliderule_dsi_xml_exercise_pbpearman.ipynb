{
 "cells": [
  {
   "cell_type": "markdown",
   "metadata": {},
   "source": [
    "# XML example and exercise\n",
    "****\n",
    "+ study examples of accessing nodes in XML tree structure  \n",
    "+ work on exercise to be completed and submitted\n",
    "****\n",
    "+ reference: https://docs.python.org/2.7/library/xml.etree.elementtree.html\n",
    "+ data source: http://www.dbis.informatik.uni-goettingen.de/Mondial\n",
    "****"
   ]
  },
  {
   "cell_type": "code",
   "execution_count": 3,
   "metadata": {
    "collapsed": true
   },
   "outputs": [],
   "source": [
    "from xml.etree import ElementTree as ET\n",
    "import pandas as pd\n",
    "import numpy as np"
   ]
  },
  {
   "cell_type": "markdown",
   "metadata": {},
   "source": [
    "## XML example\n",
    "\n",
    "+ for details about tree traversal and iterators, see https://docs.python.org/2.7/library/xml.etree.elementtree.html"
   ]
  },
  {
   "cell_type": "code",
   "execution_count": 4,
   "metadata": {
    "collapsed": false
   },
   "outputs": [],
   "source": [
    "document_tree = ET.parse( './data/mondial_database_less.xml' )"
   ]
  },
  {
   "cell_type": "code",
   "execution_count": 5,
   "metadata": {
    "collapsed": false
   },
   "outputs": [
    {
     "name": "stdout",
     "output_type": "stream",
     "text": [
      "Albania\n",
      "Greece\n",
      "Macedonia\n",
      "Serbia\n",
      "Montenegro\n",
      "Kosovo\n",
      "Andorra\n"
     ]
    }
   ],
   "source": [
    "# print names of all countries\n",
    "for child in document_tree.getroot():\n",
    "    print child.find('name').text"
   ]
  },
  {
   "cell_type": "code",
   "execution_count": 6,
   "metadata": {
    "collapsed": false
   },
   "outputs": [
    {
     "name": "stdout",
     "output_type": "stream",
     "text": [
      "* Albania: Tirana, Shkodër, Durrës, Vlorë, Elbasan, Korçë\n",
      "* Greece: Komotini, Kavala, Athina, Peiraias, Peristeri, Acharnes, Patra, Kozani, Kerkyra, Ioannina, Thessaloniki, Iraklio, Chania, Ermoupoli, Rhodes, Tripoli, Lamia, Chalkida, Larissa, Volos, Mytilini, Karyes\n",
      "* Macedonia: Skopje, Kumanovo\n",
      "* Serbia: Beograd, Novi Sad, Niš\n",
      "* Montenegro: Podgorica\n",
      "* Kosovo: Prishtine\n",
      "* Andorra: Andorra la Vella\n"
     ]
    }
   ],
   "source": [
    "# print names of all countries and their cities\n",
    "for element in document_tree.iterfind('country'):\n",
    "    print '* ' + element.find('name').text + ':',\n",
    "    capitals_string = ''\n",
    "    for subelement in element.getiterator('city'):\n",
    "        capitals_string += subelement.find('name').text + ', '\n",
    "    print capitals_string[:-2]"
   ]
  },
  {
   "cell_type": "markdown",
   "metadata": {},
   "source": [
    "****\n",
    "## XML exercise\n",
    "\n",
    "Using data in 'data/mondial_database.xml', the examples above, and refering to https://docs.python.org/2.7/library/xml.etree.elementtree.html, find\n",
    "\n",
    "1. 10 countries with the lowest infant mortality rates\n",
    "2. 10 cities with the largest population\n",
    "3. 10 ethnic groups with the largest overall populations (sum of best/latest estimates over all countries)\n",
    "4. name and country of a) longest river, b) largest lake and c) airport at highest elevation"
   ]
  },
  {
   "cell_type": "code",
   "execution_count": 22,
   "metadata": {
    "collapsed": false
   },
   "outputs": [],
   "source": [
    "#import sys\n",
    "#reload(sys)\n",
    "#sys.setdefaultencoding('utf-8')\n",
    "\n",
    "doc = ET.parse('./data/mondial_database.xml')"
   ]
  },
  {
   "cell_type": "code",
   "execution_count": 23,
   "metadata": {
    "collapsed": true
   },
   "outputs": [],
   "source": [
    "root=doc.getroot()"
   ]
  },
  {
   "cell_type": "code",
   "execution_count": 25,
   "metadata": {
    "collapsed": false
   },
   "outputs": [],
   "source": [
    "for element in root.iterfind('country'):\n",
    "    im=element.find('infant_mortality')\n",
    "    if im==None:\n",
    "        root.remove(element)\n",
    "    #else:\n",
    "    #    print im.text"
   ]
  },
  {
   "cell_type": "code",
   "execution_count": 26,
   "metadata": {
    "collapsed": false
   },
   "outputs": [],
   "source": [
    "pais=[]\n",
    "infm=[]\n",
    "for element in root.iterfind('country'):\n",
    "    x=element.find('infant_mortality').text\n",
    "    x=float(x)\n",
    "    infm.append(x)\n",
    "    pais.append(element.find('name').text)"
   ]
  },
  {
   "cell_type": "code",
   "execution_count": 27,
   "metadata": {
    "collapsed": true
   },
   "outputs": [],
   "source": [
    "dict={'country':pais,\n",
    "     'infant_mortality':infm}"
   ]
  },
  {
   "cell_type": "code",
   "execution_count": 28,
   "metadata": {
    "collapsed": false
   },
   "outputs": [],
   "source": [
    "df=pd.DataFrame(dict)"
   ]
  },
  {
   "cell_type": "code",
   "execution_count": 29,
   "metadata": {
    "collapsed": false
   },
   "outputs": [
    {
     "data": {
      "text/html": [
       "<div>\n",
       "<table border=\"1\" class=\"dataframe\">\n",
       "  <thead>\n",
       "    <tr style=\"text-align: right;\">\n",
       "      <th></th>\n",
       "      <th>country</th>\n",
       "      <th>infant_mortality</th>\n",
       "    </tr>\n",
       "  </thead>\n",
       "  <tbody>\n",
       "    <tr>\n",
       "      <th>36</th>\n",
       "      <td>Monaco</td>\n",
       "      <td>1.81</td>\n",
       "    </tr>\n",
       "    <tr>\n",
       "      <th>90</th>\n",
       "      <td>Japan</td>\n",
       "      <td>2.13</td>\n",
       "    </tr>\n",
       "    <tr>\n",
       "      <th>109</th>\n",
       "      <td>Bermuda</td>\n",
       "      <td>2.48</td>\n",
       "    </tr>\n",
       "    <tr>\n",
       "      <th>34</th>\n",
       "      <td>Norway</td>\n",
       "      <td>2.48</td>\n",
       "    </tr>\n",
       "    <tr>\n",
       "      <th>98</th>\n",
       "      <td>Singapore</td>\n",
       "      <td>2.53</td>\n",
       "    </tr>\n",
       "    <tr>\n",
       "      <th>35</th>\n",
       "      <td>Sweden</td>\n",
       "      <td>2.60</td>\n",
       "    </tr>\n",
       "    <tr>\n",
       "      <th>8</th>\n",
       "      <td>Czech Republic</td>\n",
       "      <td>2.63</td>\n",
       "    </tr>\n",
       "    <tr>\n",
       "      <th>72</th>\n",
       "      <td>Hong Kong</td>\n",
       "      <td>2.73</td>\n",
       "    </tr>\n",
       "    <tr>\n",
       "      <th>73</th>\n",
       "      <td>Macao</td>\n",
       "      <td>3.13</td>\n",
       "    </tr>\n",
       "    <tr>\n",
       "      <th>39</th>\n",
       "      <td>Iceland</td>\n",
       "      <td>3.15</td>\n",
       "    </tr>\n",
       "  </tbody>\n",
       "</table>\n",
       "</div>"
      ],
      "text/plain": [
       "            country  infant_mortality\n",
       "36           Monaco              1.81\n",
       "90            Japan              2.13\n",
       "109         Bermuda              2.48\n",
       "34           Norway              2.48\n",
       "98        Singapore              2.53\n",
       "35           Sweden              2.60\n",
       "8    Czech Republic              2.63\n",
       "72        Hong Kong              2.73\n",
       "73            Macao              3.13\n",
       "39          Iceland              3.15"
      ]
     },
     "execution_count": 29,
     "metadata": {},
     "output_type": "execute_result"
    }
   ],
   "source": [
    "df.sort_values('infant_mortality').head(10)   # The 10 countries with the lowest infant mortality rates"
   ]
  },
  {
   "cell_type": "code",
   "execution_count": 30,
   "metadata": {
    "collapsed": true
   },
   "outputs": [],
   "source": [
    "root=doc.getroot()"
   ]
  },
  {
   "cell_type": "code",
   "execution_count": 55,
   "metadata": {
    "collapsed": false
   },
   "outputs": [],
   "source": [
    "data=[]\n",
    "for element in root.iterfind('country'):\n",
    "    country_name=element.find('name').text\n",
    "    #print country_name,\n",
    "    for city in element.findall('city'):\n",
    "        city_name= city.find('name').text\n",
    "        #print city_name\n",
    "        for population in city.iterfind('population'):\n",
    "            data.append([country_name,city_name, population.attrib, population.text])\n",
    "            #print country_name,city_name, population.attrib, population.text"
   ]
  },
  {
   "cell_type": "code",
   "execution_count": 70,
   "metadata": {
    "collapsed": false
   },
   "outputs": [],
   "source": [
    "df=pd.DataFrame(data,columns=['country','city','x','population'])\n",
    "#df.head()"
   ]
  },
  {
   "cell_type": "code",
   "execution_count": 46,
   "metadata": {
    "collapsed": false
   },
   "outputs": [],
   "source": [
    "source=[]\n",
    "year_of=[]\n",
    "for i in df[2].iteritems():\n",
    "    if 'measured' in i[1]:\n",
    "        source.append(i[1]['measured'])\n",
    "    else:\n",
    "        source.append('unknown')\n",
    "    year_of.append(i[1]['year'])"
   ]
  },
  {
   "cell_type": "code",
   "execution_count": 52,
   "metadata": {
    "collapsed": false
   },
   "outputs": [],
   "source": [
    "df2=df[['country','city','population']]\n",
    "df2.loc[:,'data_source']=pd.Series(source, index=df2.index)\n",
    "df2.loc[:,'year_of_data']=pd.Series(year_of, index=df2.index)"
   ]
  },
  {
   "cell_type": "code",
   "execution_count": 71,
   "metadata": {
    "collapsed": false
   },
   "outputs": [],
   "source": [
    "#df2.head(10)"
   ]
  },
  {
   "cell_type": "code",
   "execution_count": 69,
   "metadata": {
    "collapsed": false
   },
   "outputs": [
    {
     "data": {
      "text/html": [
       "<div>\n",
       "<table border=\"1\" class=\"dataframe\">\n",
       "  <thead>\n",
       "    <tr style=\"text-align: right;\">\n",
       "      <th></th>\n",
       "      <th>country</th>\n",
       "      <th>city</th>\n",
       "      <th>population</th>\n",
       "      <th>data_source</th>\n",
       "      <th>year_of_data</th>\n",
       "    </tr>\n",
       "  </thead>\n",
       "  <tbody>\n",
       "    <tr>\n",
       "      <th>249</th>\n",
       "      <td>North Korea</td>\n",
       "      <td>Pyongyang</td>\n",
       "      <td>2335000</td>\n",
       "      <td>unknown</td>\n",
       "      <td>1987</td>\n",
       "    </tr>\n",
       "    <tr>\n",
       "      <th>154</th>\n",
       "      <td>Azerbaijan</td>\n",
       "      <td>Baku</td>\n",
       "      <td>1740000</td>\n",
       "      <td>unknown</td>\n",
       "      <td>1987</td>\n",
       "    </tr>\n",
       "    <tr>\n",
       "      <th>794</th>\n",
       "      <td>Algeria</td>\n",
       "      <td>Algiers</td>\n",
       "      <td>1507241</td>\n",
       "      <td>unknown</td>\n",
       "      <td>1987</td>\n",
       "    </tr>\n",
       "    <tr>\n",
       "      <th>17</th>\n",
       "      <td>Serbia</td>\n",
       "      <td>Beograd</td>\n",
       "      <td>1407073</td>\n",
       "      <td>unknown</td>\n",
       "      <td>1987</td>\n",
       "    </tr>\n",
       "    <tr>\n",
       "      <th>656</th>\n",
       "      <td>Dominican Republic</td>\n",
       "      <td>Santo Domingo</td>\n",
       "      <td>1400000</td>\n",
       "      <td>unknown</td>\n",
       "      <td>1987</td>\n",
       "    </tr>\n",
       "    <tr>\n",
       "      <th>70</th>\n",
       "      <td>Bulgaria</td>\n",
       "      <td>Sofia</td>\n",
       "      <td>1300000</td>\n",
       "      <td>unknown</td>\n",
       "      <td>1987</td>\n",
       "    </tr>\n",
       "    <tr>\n",
       "      <th>767</th>\n",
       "      <td>Uruguay</td>\n",
       "      <td>Montevideo</td>\n",
       "      <td>1247000</td>\n",
       "      <td>unknown</td>\n",
       "      <td>1987</td>\n",
       "    </tr>\n",
       "    <tr>\n",
       "      <th>144</th>\n",
       "      <td>Georgia</td>\n",
       "      <td>Tbilisi</td>\n",
       "      <td>1200000</td>\n",
       "      <td>unknown</td>\n",
       "      <td>1987</td>\n",
       "    </tr>\n",
       "    <tr>\n",
       "      <th>141</th>\n",
       "      <td>Armenia</td>\n",
       "      <td>Yerevan</td>\n",
       "      <td>1200000</td>\n",
       "      <td>unknown</td>\n",
       "      <td>1987</td>\n",
       "    </tr>\n",
       "    <tr>\n",
       "      <th>37</th>\n",
       "      <td>Latvia</td>\n",
       "      <td>Rīga</td>\n",
       "      <td>900000</td>\n",
       "      <td>unknown</td>\n",
       "      <td>1987</td>\n",
       "    </tr>\n",
       "  </tbody>\n",
       "</table>\n",
       "</div>"
      ],
      "text/plain": [
       "                country           city  population data_source year_of_data\n",
       "249         North Korea      Pyongyang     2335000     unknown         1987\n",
       "154          Azerbaijan           Baku     1740000     unknown         1987\n",
       "794             Algeria        Algiers     1507241     unknown         1987\n",
       "17               Serbia        Beograd     1407073     unknown         1987\n",
       "656  Dominican Republic  Santo Domingo     1400000     unknown         1987\n",
       "70             Bulgaria          Sofia     1300000     unknown         1987\n",
       "767             Uruguay     Montevideo     1247000     unknown         1987\n",
       "144             Georgia        Tbilisi     1200000     unknown         1987\n",
       "141             Armenia        Yerevan     1200000     unknown         1987\n",
       "37               Latvia           Rīga      900000     unknown         1987"
      ]
     },
     "execution_count": 69,
     "metadata": {},
     "output_type": "execute_result"
    }
   ],
   "source": [
    "                                        # Here is a sorted list of the 10 largest cities in the data, as of 1987\n",
    "df3=df2.loc[df2.year_of_data=='1987']\n",
    "df3.loc[:,'population']=df3.population.astype(int)  #convert the entire column 'population' from str to int\n",
    "df3.sort_values('population',ascending=False).head(10)"
   ]
  },
  {
   "cell_type": "code",
   "execution_count": null,
   "metadata": {
    "collapsed": true
   },
   "outputs": [],
   "source": []
  },
  {
   "cell_type": "code",
   "execution_count": null,
   "metadata": {
    "collapsed": true
   },
   "outputs": [],
   "source": [
    "root=doc.getroot()"
   ]
  },
  {
   "cell_type": "code",
   "execution_count": null,
   "metadata": {
    "collapsed": true
   },
   "outputs": [],
   "source": [
    "pais=[]\n",
    "infm=[]\n",
    "for element in root.iterfind('country'):\n",
    "    x=element.find('infant_mortality').text\n",
    "    x=float(x)\n",
    "    infm.append(x)\n",
    "    pais.append(element.find('name').text)"
   ]
  },
  {
   "cell_type": "code",
   "execution_count": 108,
   "metadata": {
    "collapsed": false
   },
   "outputs": [],
   "source": [
    "dict={'country':[],\n",
    "    'population':[],\n",
    "    'year':[],\n",
    "    'ethnic_group':[],\n",
    "    'percentage':[]}\n",
    "for country in root.iterfind('country'):\n",
    "    country_name=country.find('name').text\n",
    "    year_list=[]\n",
    "    pop_list=[]\n",
    "    for population in country.iterfind('population'):\n",
    "        year=population.attrib['year']\n",
    "        year=int(year)\n",
    "        year_list.append(year)\n",
    "        pop=population.text\n",
    "        pop=int(pop)\n",
    "        pop_list.append(pop)\n",
    "    latest=max(year_list)\n",
    "    index=year_list.index(max(year_list))   #find index of first occurrence of maximum value, use in another list\n",
    "    latest_pop=pop_list[index]\n",
    "    \n",
    "    for ethnic_group in country.iterfind('ethnicgroup'):\n",
    "        percent=ethnic_group.attrib['percentage']\n",
    "        propor=float(percent)/100.\n",
    "        dict['country'].append(country_name)\n",
    "        dict['population'].append(latest_pop)\n",
    "        dict['year'].append(latest)\n",
    "        dict['ethnic_group'].append(ethnic_group.text)\n",
    "        dict['percentage'].append(propor)\n",
    "df=pd.DataFrame(dict)       \n",
    "        #print ethnic_group.text,propor#ethnic_group.attrib\n",
    "        #dict[ethnic_group.text:ethnic_group.attrib['percentage']]\n",
    "        #print ethnic_group.text, ethnic_group.attrib\n",
    "    \n",
    "    \n",
    "\n",
    "        #city_name= city.find('name').text\n",
    "        #print city_name\n",
    "        #for population in city.iterfind('population'):\n",
    "            #data.append([country_name,city_name, population.attrib, population.text])"
   ]
  },
  {
   "cell_type": "code",
   "execution_count": 121,
   "metadata": {
    "collapsed": false
   },
   "outputs": [
    {
     "data": {
      "text/plain": [
       "ethnic_group\n",
       "Han Chinese    1245058800\n",
       "Indo-Aryan      871815583\n",
       "European        494871787\n",
       "African         318325104\n",
       "Dravidian       302713744\n",
       "Mestizo         157734349\n",
       "Bengali         146776916\n",
       "Russian         131856989\n",
       "Japanese        126534212\n",
       "Malay           121993341\n",
       "Name: eth_pop, dtype: int64"
      ]
     },
     "execution_count": 121,
     "metadata": {},
     "output_type": "execute_result"
    }
   ],
   "source": [
    "df['eth_pop']=(df.percentage*df.population).astype('int')           #Here is list of 10 largest ethnic groups\n",
    "df.eth_pop.groupby(df.ethnic_group).sum().sort_values(ascending=False).iloc[0:10]"
   ]
  },
  {
   "cell_type": "code",
   "execution_count": null,
   "metadata": {
    "collapsed": true
   },
   "outputs": [],
   "source": [
    "root=doc.getroot()"
   ]
  },
  {
   "cell_type": "code",
   "execution_count": 206,
   "metadata": {
    "collapsed": false
   },
   "outputs": [],
   "source": [
    "dict2={'c_code':[],\n",
    "      'riv_len':[],\n",
    "      'riv_name':[],\n",
    "      'countries':[]}\n",
    "\n",
    "for element in root.iterfind('river'):\n",
    "    ctry_code=element.attrib['country']\n",
    "    #print ctry_code.split()\n",
    "    river_name=element.find('name').text\n",
    "    located=element.find('located')\n",
    "    #print country_name,\n",
    "    #for river in element.findall('river'):\n",
    "    if located != None:\n",
    "        country_code=located.attrib['country']\n",
    "        length=element.find('length')\n",
    "        if length != None:\n",
    "            length=int(float(length.text))\n",
    "            dict2['c_code'].append(country_code)\n",
    "            dict2['riv_len'].append(length)\n",
    "            dict2['riv_name'].append(river_name)\n",
    "            dict2['countries'].append(ctry_code.split())\n",
    "        #print river_name,country_code,length\n",
    "        \n",
    "\n",
    "    \n",
    "        \n",
    "#        city_name= city.find('name').text\n",
    "#        #print city_name\n",
    "#        for population in city.iterfind('population'):\n",
    "#            data.append([country_name,city_name, population.attrib, population.text])"
   ]
  },
  {
   "cell_type": "code",
   "execution_count": 208,
   "metadata": {
    "collapsed": false
   },
   "outputs": [],
   "source": [
    "df2=pd.DataFrame(dict2)\n",
    "df2=df2.sort_values(by='c_code')"
   ]
  },
  {
   "cell_type": "code",
   "execution_count": 209,
   "metadata": {
    "collapsed": false
   },
   "outputs": [],
   "source": [
    "dict3={'c_code':[],\n",
    "      'country':[]}\n",
    "for element in root.iterfind('country'):\n",
    "    dict3['country'].append(element.find('name').text)\n",
    "    dict3['c_code'].append(element.attrib['car_code'])\n",
    "    #print element.attrib['car_code']"
   ]
  },
  {
   "cell_type": "code",
   "execution_count": 276,
   "metadata": {
    "collapsed": false
   },
   "outputs": [],
   "source": [
    "dict3a={}\n",
    "for element in root.iterfind('country'):\n",
    "    dict3a[element.attrib['car_code']]=element.find('name').text"
   ]
  },
  {
   "cell_type": "code",
   "execution_count": 210,
   "metadata": {
    "collapsed": false
   },
   "outputs": [],
   "source": [
    "df3=pd.DataFrame(dict3)\n",
    "df3=df3.sort_values(by='c_code')\n",
    "#dict3['c_code']"
   ]
  },
  {
   "cell_type": "code",
   "execution_count": 300,
   "metadata": {
    "collapsed": true
   },
   "outputs": [],
   "source": [
    "df4=df2.merge(df3).sort_values('riv_len',ascending=False)"
   ]
  },
  {
   "cell_type": "code",
   "execution_count": 301,
   "metadata": {
    "collapsed": false,
    "scrolled": true
   },
   "outputs": [
    {
     "data": {
      "text/html": [
       "<div>\n",
       "<table border=\"1\" class=\"dataframe\">\n",
       "  <thead>\n",
       "    <tr style=\"text-align: right;\">\n",
       "      <th></th>\n",
       "      <th>c_code</th>\n",
       "      <th>countries</th>\n",
       "      <th>riv_len</th>\n",
       "      <th>riv_name</th>\n",
       "      <th>country</th>\n",
       "    </tr>\n",
       "  </thead>\n",
       "  <tbody>\n",
       "    <tr>\n",
       "      <th>53</th>\n",
       "      <td>CO</td>\n",
       "      <td>[CO, BR, PE]</td>\n",
       "      <td>6448</td>\n",
       "      <td>Amazonas</td>\n",
       "      <td>Colombia</td>\n",
       "    </tr>\n",
       "    <tr>\n",
       "      <th>48</th>\n",
       "      <td>CN</td>\n",
       "      <td>[CN]</td>\n",
       "      <td>6380</td>\n",
       "      <td>Jangtse</td>\n",
       "      <td>China</td>\n",
       "    </tr>\n",
       "    <tr>\n",
       "      <th>49</th>\n",
       "      <td>CN</td>\n",
       "      <td>[CN]</td>\n",
       "      <td>4845</td>\n",
       "      <td>Hwangho</td>\n",
       "      <td>China</td>\n",
       "    </tr>\n",
       "    <tr>\n",
       "      <th>145</th>\n",
       "      <td>R</td>\n",
       "      <td>[R]</td>\n",
       "      <td>4400</td>\n",
       "      <td>Lena</td>\n",
       "      <td>Russia</td>\n",
       "    </tr>\n",
       "    <tr>\n",
       "      <th>204</th>\n",
       "      <td>ZRE</td>\n",
       "      <td>[RCB, ZRE]</td>\n",
       "      <td>4374</td>\n",
       "      <td>Zaire</td>\n",
       "      <td>Zaire</td>\n",
       "    </tr>\n",
       "  </tbody>\n",
       "</table>\n",
       "</div>"
      ],
      "text/plain": [
       "    c_code     countries  riv_len  riv_name   country\n",
       "53      CO  [CO, BR, PE]     6448  Amazonas  Colombia\n",
       "48      CN          [CN]     6380   Jangtse     China\n",
       "49      CN          [CN]     4845   Hwangho     China\n",
       "145      R           [R]     4400      Lena    Russia\n",
       "204    ZRE    [RCB, ZRE]     4374     Zaire     Zaire"
      ]
     },
     "execution_count": 301,
     "metadata": {},
     "output_type": "execute_result"
    }
   ],
   "source": [
    "df4a=df4.head()\n",
    "df4a"
   ]
  },
  {
   "cell_type": "code",
   "execution_count": 302,
   "metadata": {
    "collapsed": false
   },
   "outputs": [
    {
     "name": "stdout",
     "output_type": "stream",
     "text": [
      "49    China\n",
      "Name: country, dtype: object\n"
     ]
    }
   ],
   "source": [
    "temp=df3.country[df3.c_code=='CN']\n",
    "print temp"
   ]
  },
  {
   "cell_type": "code",
   "execution_count": 303,
   "metadata": {
    "collapsed": false
   },
   "outputs": [
    {
     "data": {
      "text/plain": [
       "[' Colombia Brazil Peru', ' China', ' China', ' Russia', ' Congo Zaire']"
      ]
     },
     "execution_count": 303,
     "metadata": {},
     "output_type": "execute_result"
    }
   ],
   "source": [
    "cntry_list=[]\n",
    "for j in range(0,len(df4a.countries)):\n",
    "    cstr=''\n",
    "    cts=df4a.countries.iloc[j]\n",
    "    for i in cts:\n",
    "        cstr =cstr + ' ' + dict3a[i]\n",
    "    cntry_list.append(cstr)\n",
    "cntry_list"
   ]
  },
  {
   "cell_type": "code",
   "execution_count": 320,
   "metadata": {
    "collapsed": false,
    "scrolled": true
   },
   "outputs": [],
   "source": [
    "df4a.loc[:,'countries_2']=pd.Series(cntry_list,index=df4a.index)\n"
   ]
  },
  {
   "cell_type": "code",
   "execution_count": 323,
   "metadata": {
    "collapsed": false
   },
   "outputs": [
    {
     "data": {
      "text/html": [
       "<div>\n",
       "<table border=\"1\" class=\"dataframe\">\n",
       "  <thead>\n",
       "    <tr style=\"text-align: right;\">\n",
       "      <th></th>\n",
       "      <th>riv_len</th>\n",
       "      <th>riv_name</th>\n",
       "      <th>countries_2</th>\n",
       "    </tr>\n",
       "  </thead>\n",
       "  <tbody>\n",
       "    <tr>\n",
       "      <th>53</th>\n",
       "      <td>6448</td>\n",
       "      <td>Amazonas</td>\n",
       "      <td>Colombia Brazil Peru</td>\n",
       "    </tr>\n",
       "    <tr>\n",
       "      <th>48</th>\n",
       "      <td>6380</td>\n",
       "      <td>Jangtse</td>\n",
       "      <td>China</td>\n",
       "    </tr>\n",
       "    <tr>\n",
       "      <th>49</th>\n",
       "      <td>4845</td>\n",
       "      <td>Hwangho</td>\n",
       "      <td>China</td>\n",
       "    </tr>\n",
       "    <tr>\n",
       "      <th>145</th>\n",
       "      <td>4400</td>\n",
       "      <td>Lena</td>\n",
       "      <td>Russia</td>\n",
       "    </tr>\n",
       "    <tr>\n",
       "      <th>204</th>\n",
       "      <td>4374</td>\n",
       "      <td>Zaire</td>\n",
       "      <td>Congo Zaire</td>\n",
       "    </tr>\n",
       "  </tbody>\n",
       "</table>\n",
       "</div>"
      ],
      "text/plain": [
       "     riv_len  riv_name            countries_2\n",
       "53      6448  Amazonas   Colombia Brazil Peru\n",
       "48      6380   Jangtse                  China\n",
       "49      4845   Hwangho                  China\n",
       "145     4400      Lena                 Russia\n",
       "204     4374     Zaire            Congo Zaire"
      ]
     },
     "execution_count": 323,
     "metadata": {},
     "output_type": "execute_result"
    }
   ],
   "source": [
    "df4a.sort_values('riv_len',ascending=False)[['riv_len','riv_name','countries_2']]  #here are the longest rivers, their lengths, and at lease one of the country"
   ]
  },
  {
   "cell_type": "code",
   "execution_count": 190,
   "metadata": {
    "collapsed": false
   },
   "outputs": [],
   "source": [
    "dict5={'c_code':[],\n",
    "       'ap_name':[],\n",
    "       'elev':[]}\n",
    "\n",
    "for airport in root.iterfind('airport'):\n",
    "    airport_name=airport.find('name').text\n",
    "    elevation=airport.find('elevation').text\n",
    "    if elevation==None:\n",
    "        elevation=-9999\n",
    "    else:\n",
    "        elevation=int(elevation)\n",
    "    country_code=airport.attrib['country']\n",
    "    #print elevation, country_code,airport.attrib['country']\n",
    "\n",
    "    dict5['c_code'].append(country_code)\n",
    "    dict5['elev'].append(elevation)\n",
    "    dict5['ap_name'].append(airport_name)\n",
    "df5=pd.DataFrame(dict5)\n",
    "df6=df5.sort_values('c_code')"
   ]
  },
  {
   "cell_type": "code",
   "execution_count": 191,
   "metadata": {
    "collapsed": false
   },
   "outputs": [],
   "source": [
    "df7=df6.merge(df3)"
   ]
  },
  {
   "cell_type": "code",
   "execution_count": 193,
   "metadata": {
    "collapsed": false
   },
   "outputs": [
    {
     "data": {
      "text/html": [
       "<div>\n",
       "<table border=\"1\" class=\"dataframe\">\n",
       "  <thead>\n",
       "    <tr style=\"text-align: right;\">\n",
       "      <th></th>\n",
       "      <th>ap_name</th>\n",
       "      <th>c_code</th>\n",
       "      <th>elev</th>\n",
       "    </tr>\n",
       "  </thead>\n",
       "  <tbody>\n",
       "    <tr>\n",
       "      <th>219</th>\n",
       "      <td>Lhasa-Gonggar</td>\n",
       "      <td>CN</td>\n",
       "      <td>4005</td>\n",
       "    </tr>\n",
       "  </tbody>\n",
       "</table>\n",
       "</div>"
      ],
      "text/plain": [
       "           ap_name c_code  elev\n",
       "219  Lhasa-Gonggar     CN  4005"
      ]
     },
     "execution_count": 193,
     "metadata": {},
     "output_type": "execute_result"
    }
   ],
   "source": [
    "df6[df6.ap_name=='Lhasa-Gonggar']"
   ]
  },
  {
   "cell_type": "code",
   "execution_count": 194,
   "metadata": {
    "collapsed": false
   },
   "outputs": [
    {
     "data": {
      "text/html": [
       "<div>\n",
       "<table border=\"1\" class=\"dataframe\">\n",
       "  <thead>\n",
       "    <tr style=\"text-align: right;\">\n",
       "      <th></th>\n",
       "      <th>ap_name</th>\n",
       "      <th>c_code</th>\n",
       "      <th>elev</th>\n",
       "      <th>country</th>\n",
       "    </tr>\n",
       "  </thead>\n",
       "  <tbody>\n",
       "    <tr>\n",
       "      <th>50</th>\n",
       "      <td>El Alto Intl</td>\n",
       "      <td>BOL</td>\n",
       "      <td>4063</td>\n",
       "      <td>Bolivia</td>\n",
       "    </tr>\n",
       "    <tr>\n",
       "      <th>178</th>\n",
       "      <td>Lhasa-Gonggar</td>\n",
       "      <td>CN</td>\n",
       "      <td>4005</td>\n",
       "      <td>China</td>\n",
       "    </tr>\n",
       "    <tr>\n",
       "      <th>170</th>\n",
       "      <td>Yushu Batang</td>\n",
       "      <td>CN</td>\n",
       "      <td>3963</td>\n",
       "      <td>China</td>\n",
       "    </tr>\n",
       "    <tr>\n",
       "      <th>780</th>\n",
       "      <td>Juliaca</td>\n",
       "      <td>PE</td>\n",
       "      <td>3827</td>\n",
       "      <td>Peru</td>\n",
       "    </tr>\n",
       "    <tr>\n",
       "      <th>777</th>\n",
       "      <td>Teniente Alejandro Velasco Astete Intl</td>\n",
       "      <td>PE</td>\n",
       "      <td>3311</td>\n",
       "      <td>Peru</td>\n",
       "    </tr>\n",
       "  </tbody>\n",
       "</table>\n",
       "</div>"
      ],
      "text/plain": [
       "                                    ap_name c_code  elev  country\n",
       "50                             El Alto Intl    BOL  4063  Bolivia\n",
       "178                           Lhasa-Gonggar     CN  4005    China\n",
       "170                            Yushu Batang     CN  3963    China\n",
       "780                                 Juliaca     PE  3827     Peru\n",
       "777  Teniente Alejandro Velasco Astete Intl     PE  3311     Peru"
      ]
     },
     "execution_count": 194,
     "metadata": {},
     "output_type": "execute_result"
    }
   ],
   "source": [
    "df7.sort_values('elev',ascending=False).head()                   # The highest airport is in Bolivia"
   ]
  },
  {
   "cell_type": "code",
   "execution_count": null,
   "metadata": {
    "collapsed": true
   },
   "outputs": [],
   "source": []
  },
  {
   "cell_type": "code",
   "execution_count": 201,
   "metadata": {
    "collapsed": false
   },
   "outputs": [],
   "source": [
    "dict6={'c_code':[],\n",
    "       'lake_name':[],\n",
    "       'area':[]}\n",
    "\n",
    "for lake in root.iterfind('lake'):\n",
    "    lake_name=lake.find('name').text\n",
    "    \n",
    "    if lake.find('area')==None:\n",
    "        area=-9999\n",
    "    else:\n",
    "        area=lake.find('area').text\n",
    "        area=int(float(area))\n",
    "    country_code=lake.attrib['country']\n",
    "    #print elevation, country_code,airport.attrib['country']\n",
    "\n",
    "    dict6['c_code'].append(country_code)\n",
    "    dict6['area'].append(area)\n",
    "    dict6['lake_name'].append(lake_name)\n",
    "df8=pd.DataFrame(dict6)\n",
    "df8=df8.sort_values('c_code')\n",
    "df8=df8.merge(df3)"
   ]
  },
  {
   "cell_type": "code",
   "execution_count": 203,
   "metadata": {
    "collapsed": false
   },
   "outputs": [
    {
     "data": {
      "text/html": [
       "<div>\n",
       "<table border=\"1\" class=\"dataframe\">\n",
       "  <thead>\n",
       "    <tr style=\"text-align: right;\">\n",
       "      <th></th>\n",
       "      <th>area</th>\n",
       "      <th>c_code</th>\n",
       "      <th>lake_name</th>\n",
       "      <th>country</th>\n",
       "    </tr>\n",
       "  </thead>\n",
       "  <tbody>\n",
       "    <tr>\n",
       "      <th>91</th>\n",
       "      <td>57800</td>\n",
       "      <td>USA</td>\n",
       "      <td>Lake Michigan</td>\n",
       "      <td>United States</td>\n",
       "    </tr>\n",
       "    <tr>\n",
       "      <th>11</th>\n",
       "      <td>31792</td>\n",
       "      <td>CDN</td>\n",
       "      <td>Great Bear Lake</td>\n",
       "      <td>Canada</td>\n",
       "    </tr>\n",
       "    <tr>\n",
       "      <th>58</th>\n",
       "      <td>31492</td>\n",
       "      <td>R</td>\n",
       "      <td>Ozero Baikal</td>\n",
       "      <td>Russia</td>\n",
       "    </tr>\n",
       "    <tr>\n",
       "      <th>12</th>\n",
       "      <td>28568</td>\n",
       "      <td>CDN</td>\n",
       "      <td>Great Slave Lake</td>\n",
       "      <td>Canada</td>\n",
       "    </tr>\n",
       "    <tr>\n",
       "      <th>16</th>\n",
       "      <td>24420</td>\n",
       "      <td>CDN</td>\n",
       "      <td>Lake Winnipeg</td>\n",
       "      <td>Canada</td>\n",
       "    </tr>\n",
       "  </tbody>\n",
       "</table>\n",
       "</div>"
      ],
      "text/plain": [
       "     area c_code         lake_name        country\n",
       "91  57800    USA     Lake Michigan  United States\n",
       "11  31792    CDN   Great Bear Lake         Canada\n",
       "58  31492      R      Ozero Baikal         Russia\n",
       "12  28568    CDN  Great Slave Lake         Canada\n",
       "16  24420    CDN     Lake Winnipeg         Canada"
      ]
     },
     "execution_count": 203,
     "metadata": {},
     "output_type": "execute_result"
    }
   ],
   "source": [
    "df8.sort_values('area',ascending=False).head()     # Here is what I get for the largest lake and its country location"
   ]
  },
  {
   "cell_type": "code",
   "execution_count": null,
   "metadata": {
    "collapsed": true
   },
   "outputs": [],
   "source": []
  },
  {
   "cell_type": "code",
   "execution_count": null,
   "metadata": {
    "collapsed": true
   },
   "outputs": [],
   "source": []
  }
 ],
 "metadata": {
  "kernelspec": {
   "display_name": "Python 2",
   "language": "python",
   "name": "python2"
  },
  "language_info": {
   "codemirror_mode": {
    "name": "ipython",
    "version": 2
   },
   "file_extension": ".py",
   "mimetype": "text/x-python",
   "name": "python",
   "nbconvert_exporter": "python",
   "pygments_lexer": "ipython2",
   "version": "2.7.11"
  }
 },
 "nbformat": 4,
 "nbformat_minor": 0
}
