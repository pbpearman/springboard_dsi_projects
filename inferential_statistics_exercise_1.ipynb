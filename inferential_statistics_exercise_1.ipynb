{
 "cells": [
  {
   "cell_type": "markdown",
   "metadata": {},
   "source": [
    "## What is the true normal human body temperature? \n",
    "\n",
    "#### Background\n",
    "\n",
    "The mean normal body temperature was held to be 37$^{\\circ}$C or 98.6$^{\\circ}$F for more than 120 years since it was first conceptualized and reported by Carl Wunderlich in a famous 1868 book. In 1992, this value was revised to 36.8$^{\\circ}$C or 98.2$^{\\circ}$F. \n",
    "\n",
    "#### Exercise\n",
    "In this exercise, you will analyze a dataset of human body temperatures and employ the concepts of hypothesis testing, confidence intervals, and statistical significance.\n",
    "\n",
    "Answer the following questions **in this notebook below and submit to your Github account**. \n",
    "\n",
    "1.  Is the distribution of body temperatures normal? \n",
    "    - Remember that this is a condition for the CLT, and hence the statistical tests we are using, to apply. \n",
    "2.  Is the true population mean really 98.6 degrees F?\n",
    "    - Bring out the one sample hypothesis test! In this situation, is it approriate to apply a z-test or a t-test? How will the result be different?\n",
    "3.  At what temperature should we consider someone's temperature to be \"abnormal\"?\n",
    "    - Start by computing the margin of error and confidence interval.\n",
    "4.  Is there a significant difference between males and females in normal temperature?\n",
    "    - Set up and solve for a two sample hypothesis testing.\n",
    "\n",
    "You can include written notes in notebook cells using Markdown: \n",
    "   - In the control panel at the top, choose Cell > Cell Type > Markdown\n",
    "   - Markdown syntax: http://nestacms.com/docs/creating-content/markdown-cheat-sheet\n",
    "\n",
    "#### Resources\n",
    "\n",
    "+ Information and data sources: http://www.amstat.org/publications/jse/datasets/normtemp.txt, http://www.amstat.org/publications/jse/jse_data_archive.htm\n",
    "+ Markdown syntax: http://nestacms.com/docs/creating-content/markdown-cheat-sheet\n",
    "\n",
    "****"
   ]
  },
  {
   "cell_type": "code",
   "execution_count": 155,
   "metadata": {
    "collapsed": true
   },
   "outputs": [],
   "source": [
    "%matplotlib inline"
   ]
  },
  {
   "cell_type": "code",
   "execution_count": 156,
   "metadata": {
    "collapsed": false
   },
   "outputs": [
    {
     "data": {
      "text/html": [
       "<style>body {\n",
       "    margin: 0;\n",
       "    font-family: Helvetica;\n",
       "}\n",
       "table.dataframe {\n",
       "    border-collapse: collapse;\n",
       "    border: none;\n",
       "}\n",
       "table.dataframe tr {\n",
       "    border: none;\n",
       "}\n",
       "table.dataframe td, table.dataframe th {\n",
       "    margin: 0;\n",
       "    border: 1px solid white;\n",
       "    padding-left: 0.25em;\n",
       "    padding-right: 0.25em;\n",
       "}\n",
       "table.dataframe th:not(:empty) {\n",
       "    background-color: #fec;\n",
       "    text-align: left;\n",
       "    font-weight: normal;\n",
       "}\n",
       "table.dataframe tr:nth-child(2) th:empty {\n",
       "    border-left: none;\n",
       "    border-right: 1px dashed #888;\n",
       "}\n",
       "table.dataframe td {\n",
       "    border: 2px solid #ccf;\n",
       "    background-color: #f4f4ff;\n",
       "}\n",
       "h3 {\n",
       "    color: white;\n",
       "    background-color: black;\n",
       "    padding: 0.5em;\n",
       "}\n",
       "</style>"
      ],
      "text/plain": [
       "<IPython.core.display.HTML object>"
      ]
     },
     "execution_count": 156,
     "metadata": {},
     "output_type": "execute_result"
    }
   ],
   "source": [
    "from IPython.core.display import HTML\n",
    "css = open('style-table.css').read() + open('style-notebook.css').read()\n",
    "HTML('<style>{}</style>'.format(css))"
   ]
  },
  {
   "cell_type": "code",
   "execution_count": 157,
   "metadata": {
    "collapsed": true
   },
   "outputs": [],
   "source": [
    "import pandas as pd\n",
    "import numpy as np\n",
    "import matplotlib\n",
    "import matplotlib.pyplot as plt\n",
    "import matplotlib as mpl"
   ]
  },
  {
   "cell_type": "code",
   "execution_count": 158,
   "metadata": {
    "collapsed": false
   },
   "outputs": [],
   "source": [
    "df = pd.read_csv('data/human_body_temperature.csv')"
   ]
  },
  {
   "cell_type": "code",
   "execution_count": 159,
   "metadata": {
    "collapsed": false
   },
   "outputs": [
    {
     "data": {
      "text/plain": [
       "Index([u'temperature', u'gender', u'heart_rate'], dtype='object')"
      ]
     },
     "execution_count": 159,
     "metadata": {},
     "output_type": "execute_result"
    }
   ],
   "source": [
    "df.columns"
   ]
  },
  {
   "cell_type": "code",
   "execution_count": 160,
   "metadata": {
    "collapsed": true
   },
   "outputs": [],
   "source": [
    "#import seaborn as sns"
   ]
  },
  {
   "cell_type": "markdown",
   "metadata": {},
   "source": [
    "# Question 1. Is the distribution of body temperatures normal?\n",
    "I look at the distribution and do a visual test, the QQplot"
   ]
  },
  {
   "cell_type": "code",
   "execution_count": 161,
   "metadata": {
    "collapsed": false
   },
   "outputs": [
    {
     "data": {
      "image/png": "[encoded data removed]",
      "text/plain": [
       "<matplotlib.figure.Figure at 0x11dea4090>"
      ]
     },
     "metadata": {},
     "output_type": "display_data"
    }
   ],
   "source": [
    "fig=plt.figure()\n",
    "ax=plt.subplot(1,1,1)\n",
    "plt.hist(df.temperature, bins=12,normed=True)\n",
    "#sns.kdeplot(df.temperature)\n",
    "plt.show()\n",
    "\n",
    "\n",
    "#df.temperature.plot(kind='hist', bins=12)"
   ]
  },
  {
   "cell_type": "code",
   "execution_count": 162,
   "metadata": {
    "collapsed": false
   },
   "outputs": [
    {
     "data": {
      "text/plain": [
       "(98.24923076923078, 0.7331831580389454)"
      ]
     },
     "execution_count": 162,
     "metadata": {},
     "output_type": "execute_result"
    }
   ],
   "source": [
    "df.temperature.mean(), df.temperature.std()"
   ]
  },
  {
   "cell_type": "code",
   "execution_count": 163,
   "metadata": {
    "collapsed": false
   },
   "outputs": [],
   "source": [
    "import statsmodels.api as sm\n",
    "import pylab\n",
    "import scipy.stats as stats"
   ]
  },
  {
   "cell_type": "code",
   "execution_count": 164,
   "metadata": {
    "collapsed": false
   },
   "outputs": [
    {
     "data": {
      "image/png": "[encoded data removed]",
      "text/plain": [
       "<matplotlib.figure.Figure at 0x11d378d50>"
      ]
     },
     "metadata": {},
     "output_type": "display_data"
    }
   ],
   "source": [
    "test_list=([(x,y) for x,y in zip(list(np.linspace(96.5,100,num=50)),list(np.linspace(96.5,100,num=50)))])\n",
    "#plt.plot(test_list)           # THIS IS JUST SOME TEST CODE FOR THE LIST COMPREHENSION\n",
    "plt.plot(*zip(*test_list));"
   ]
  },
  {
   "cell_type": "markdown",
   "metadata": {},
   "source": [
    "## Here is my effort at a custom Q-Q plot"
   ]
  },
  {
   "cell_type": "code",
   "execution_count": 165,
   "metadata": {
    "collapsed": false
   },
   "outputs": [
    {
     "data": {
      "text/plain": [
       "(96.5, 100)"
      ]
     },
     "execution_count": 165,
     "metadata": {},
     "output_type": "execute_result"
    },
    {
     "data": {
      "image/png": "[encoded data removed]",
      "text/plain": [
       "<matplotlib.figure.Figure at 0x11d7cf550>"
      ]
     },
     "metadata": {},
     "output_type": "display_data"
    }
   ],
   "source": [
    "fig=plt.figure(figsize=(8,8)) #,facecolor='white')          #open a figure\n",
    "ax=fig.add_subplot(1,1,1) #,axisbg='white')\n",
    "tquants=stats.norm.ppf(np.linspace(0.01,0.99,num=99),df.temperature.mean(),df.temperature.std())  #percentiles of normal\n",
    "empquants=np.percentile(df.temperature,np.arange(1,100,1))\n",
    "data=ax.plot(tquants,empquants,color='r',marker='o',linestyle='None')  \n",
    "test=[(x,y) for x,y in zip(list(np.linspace(96.5,100,num=50)),list(np.linspace(96.5,100,num=50)))]\n",
    "\n",
    "line=ax.plot(*zip(*test), color='b',marker='None')\n",
    "#ax.legend(data)\n",
    "ax.set_xlim([96.5,100])\n",
    "ax.set_ylim([96.5,100])\n"
   ]
  },
  {
   "cell_type": "code",
   "execution_count": 166,
   "metadata": {
    "collapsed": false
   },
   "outputs": [],
   "source": [
    "#list(np.linspace(96.5,100,num=50))"
   ]
  },
  {
   "cell_type": "code",
   "execution_count": 167,
   "metadata": {
    "collapsed": false
   },
   "outputs": [],
   "source": [
    "#[(x,y) for x,y in zip(list(np.linspace(96.5,100,num=50)),list(np.linspace(96.5,100,num=50)))]  # Test code"
   ]
  },
  {
   "cell_type": "code",
   "execution_count": 168,
   "metadata": {
    "collapsed": false,
    "scrolled": true
   },
   "outputs": [
    {
     "data": {
      "text/plain": [
       "array([ 96.487,  96.7  ,  96.787,  96.916,  97.045,  97.1  ,  97.103,\n",
       "        97.2  ,  97.2  ,  97.29 ,  97.4  ,  97.4  ,  97.4  ,  97.406,\n",
       "        97.5  ,  97.564,  97.6  ,  97.6  ,  97.651,  97.7  ,  97.709,\n",
       "        97.8  ,  97.8  ,  97.8  ,  97.8  ,  97.8  ,  97.883,  97.9  ,\n",
       "        97.9  ,  97.9  ,  97.999,  98.   ,  98.   ,  98.   ,  98.   ,\n",
       "        98.   ,  98.   ,  98.   ,  98.031,  98.1  ,  98.1  ,  98.2  ,\n",
       "        98.2  ,  98.2  ,  98.2  ,  98.2  ,  98.2  ,  98.2  ,  98.221,\n",
       "        98.3  ,  98.3  ,  98.3  ,  98.337,  98.4  ,  98.4  ,  98.4  ,\n",
       "        98.4  ,  98.4  ,  98.4  ,  98.44 ,  98.5  ,  98.5  ,  98.6  ,\n",
       "        98.6  ,  98.6  ,  98.6  ,  98.6  ,  98.6  ,  98.6  ,  98.63 ,\n",
       "        98.7  ,  98.7  ,  98.7  ,  98.7  ,  98.7  ,  98.704,  98.8  ,\n",
       "        98.8  ,  98.8  ,  98.8  ,  98.8  ,  98.8  ,  98.8  ,  98.836,\n",
       "        98.9  ,  98.994,  99.   ,  99.   ,  99.   ,  99.1  ,  99.1  ,\n",
       "        99.168,  99.2  ,  99.226,  99.3  ,  99.384,  99.413,  99.668,\n",
       "        99.971])"
      ]
     },
     "execution_count": 168,
     "metadata": {},
     "output_type": "execute_result"
    }
   ],
   "source": [
    "np.percentile(df.temperature,np.arange(1,100,1))  # generate quantile (percentile) values as Test code"
   ]
  },
  {
   "cell_type": "code",
   "execution_count": null,
   "metadata": {
    "collapsed": true
   },
   "outputs": [],
   "source": []
  },
  {
   "cell_type": "markdown",
   "metadata": {},
   "source": [
    "## Here is a different version of a Q-Q plot"
   ]
  },
  {
   "cell_type": "code",
   "execution_count": 169,
   "metadata": {
    "collapsed": false
   },
   "outputs": [
    {
     "data": {
      "image/png": "[encoded data removed]",
      "text/plain": [
       "<matplotlib.figure.Figure at 0x11df26610>"
      ]
     },
     "metadata": {},
     "output_type": "display_data"
    }
   ],
   "source": [
    "sm.graphics.qqplot(df.temperature, line='45',fit=True); #dist='norm',loc=98.24923076923078,plot=pylab)"
   ]
  },
  {
   "cell_type": "markdown",
   "metadata": {},
   "source": [
    "## Conclusion:  Not normal.\n",
    " Inspection of the historgram and the Q-Q plots suggest that the data deviate from a normal distribution.  That deviation is at both ends of the distribution."
   ]
  },
  {
   "cell_type": "markdown",
   "metadata": {},
   "source": [
    "# 2. Is the true population mean really 98.6 degrees F?\n",
    "Since the data aren't normally distributed, one way to answer this question would be to bootstrap the distribution of population means, then examine the confidence intervals to see if they include the value 98.6 deg F."
   ]
  },
  {
   "cell_type": "code",
   "execution_count": 170,
   "metadata": {
    "collapsed": true
   },
   "outputs": [],
   "source": [
    "def TestStatistic(data):    \n",
    "    test_stat = data.mean()\n",
    "    return test_stat"
   ]
  },
  {
   "cell_type": "code",
   "execution_count": 171,
   "metadata": {
    "collapsed": true
   },
   "outputs": [],
   "source": [
    "def RunModel(data):\n",
    "    samp=np.random.choice(data,replace=True,size=len(data))\n",
    "    return samp"
   ]
  },
  {
   "cell_type": "code",
   "execution_count": 172,
   "metadata": {
    "collapsed": true
   },
   "outputs": [],
   "source": [
    "temp=df.temperature"
   ]
  },
  {
   "cell_type": "code",
   "execution_count": 173,
   "metadata": {
    "collapsed": false
   },
   "outputs": [
    {
     "data": {
      "text/plain": [
       "713    98.458462\n",
       "559    98.458462\n",
       "730    98.440769\n",
       "545    98.433077\n",
       "658    98.424615\n",
       "929    98.422308\n",
       "677    98.421538\n",
       "623    98.416923\n",
       "561    98.411538\n",
       "896    98.409231\n",
       "621    98.408462\n",
       "189    98.406154\n",
       "446    98.402308\n",
       "500    98.400769\n",
       "363    98.397692\n",
       "438    98.396154\n",
       "191    98.395385\n",
       "845    98.393846\n",
       "654    98.393846\n",
       "496    98.390000\n",
       "dtype: float64"
      ]
     },
     "execution_count": 173,
     "metadata": {},
     "output_type": "execute_result"
    }
   ],
   "source": [
    "vals=[TestStatistic(RunModel(temp)) for i in np.arange(999)]\n",
    "vals=pd.Series(vals).sort_values(ascending=False)\n",
    "vals.head(20)"
   ]
  },
  {
   "cell_type": "code",
   "execution_count": 174,
   "metadata": {
    "collapsed": false
   },
   "outputs": [
    {
     "data": {
      "text/plain": [
       "<matplotlib.text.Text at 0x11ab74c10>"
      ]
     },
     "execution_count": 174,
     "metadata": {},
     "output_type": "execute_result"
    },
    {
     "data": {
      "image/png": "[encoded data removed]",
      "text/plain": [
       "<matplotlib.figure.Figure at 0x11df31710>"
      ]
     },
     "metadata": {},
     "output_type": "display_data"
    }
   ],
   "source": [
    "plt.hist(vals, bins=20, color='b')\n",
    "plt.xlabel(\"temp\")\n",
    "plt.ylabel(\"Frequency\")"
   ]
  },
  {
   "cell_type": "code",
   "execution_count": 175,
   "metadata": {
    "collapsed": false
   },
   "outputs": [
    {
     "name": "stdout",
     "output_type": "stream",
     "text": [
      "The max of the 95% confidence interval is  98.3830769231  The min is 98.1253846154 The maximum value was 98.4584615385\n"
     ]
    }
   ],
   "source": [
    "print 'The max of the 95% confidence interval is ', vals.iloc[24], ' The min is', vals.iloc[975], 'The maximum value was', vals.iloc[0]"
   ]
  },
  {
   "cell_type": "markdown",
   "metadata": {},
   "source": [
    "## The bootstrapped confidence interval of mean values does not include 98.6.  None of the bootstrapped means came close to 98.6.  Basically, we can conclude that the data do not support the mean value being 98.6 deg F.\n",
    "\n",
    "\n"
   ]
  },
  {
   "cell_type": "markdown",
   "metadata": {},
   "source": [
    "## _________ "
   ]
  },
  {
   "cell_type": "markdown",
   "metadata": {},
   "source": [
    "# 3. At what temperature should we consider someone's temperature to be \"abnormal\"?\n",
    "\n",
    "One might decide on a criterion for what constitutes an 'abnormal' body temperature.  A temperature measure that lies outside 95% of the distribution might well be considered abnormal.  For normally-distributed data, one could calculate the number of standard deviations away from the mean that one would need to fall outside this limit.  However, with a non-normal distribution, a computational approach can be used to estimate the values.  We are interested in the top and bottom 2.5% of the distribution of body temperatures.  Any value above/below these two limits would be considered rare.\n",
    "\n",
    "Here, I estimate the values that indicate the upper and lower limits of the central 95% of the values in the body temperature data:"
   ]
  },
  {
   "cell_type": "code",
   "execution_count": 228,
   "metadata": {
    "collapsed": true
   },
   "outputs": [],
   "source": [
    "def TestStatistic(data):\n",
    "    data=pd.Series(data)\n",
    "    dat_sorted = data.sort_values(ascending=False)\n",
    "    upperval=int(0.025*len(data))\n",
    "    lowerval=int(0.975*len(data))\n",
    "    upper = dat_sorted.iloc[upperval]\n",
    "    lower = dat_sorted.iloc[lowerval]\n",
    "    ant=(upper,lower)\n",
    "    return ant"
   ]
  },
  {
   "cell_type": "code",
   "execution_count": 222,
   "metadata": {
    "collapsed": true
   },
   "outputs": [],
   "source": [
    "def RunModel(data):\n",
    "    samp=np.random.choice(data,replace=True,size=len(data))\n",
    "    return samp"
   ]
  },
  {
   "cell_type": "code",
   "execution_count": 229,
   "metadata": {
    "collapsed": false
   },
   "outputs": [],
   "source": [
    "vals=[TestStatistic(RunModel(temp)) for i in np.arange(999)]\n",
    "\n",
    "#vals.head(20)"
   ]
  },
  {
   "cell_type": "code",
   "execution_count": 232,
   "metadata": {
    "collapsed": true
   },
   "outputs": [],
   "source": [
    "vals1=pd.DataFrame(vals,columns=['high','low'])"
   ]
  },
  {
   "cell_type": "code",
   "execution_count": 233,
   "metadata": {
    "collapsed": false
   },
   "outputs": [
    {
     "data": {
      "text/plain": [
       "99.60640640640588"
      ]
     },
     "execution_count": 233,
     "metadata": {},
     "output_type": "execute_result"
    }
   ],
   "source": [
    "vals1['high'].mean()"
   ]
  },
  {
   "cell_type": "code",
   "execution_count": 234,
   "metadata": {
    "collapsed": false
   },
   "outputs": [
    {
     "data": {
      "text/plain": [
       "96.75065065065006"
      ]
     },
     "execution_count": 234,
     "metadata": {},
     "output_type": "execute_result"
    }
   ],
   "source": [
    "vals1['low'].mean()"
   ]
  },
  {
   "cell_type": "markdown",
   "metadata": {},
   "source": [
    "## From these resampled data, a body temperature higher that 99.61 deg F or lower than 96.75 could be considered 'extreme', or alternatively, not normal.\n",
    "\n",
    "However, there may be differences between men and women that would suggest that the groups they comprise should be considered separately.  I test for this in the next section."
   ]
  },
  {
   "cell_type": "code",
   "execution_count": null,
   "metadata": {
    "collapsed": true
   },
   "outputs": [],
   "source": []
  },
  {
   "cell_type": "markdown",
   "metadata": {},
   "source": [
    "# 4. Is there a significant difference between males and females in normal temperature?\n",
    "\n",
    "Here I use a resampling approach to determine if it is reasonable to conclude that male and female body temperatures are different."
   ]
  },
  {
   "cell_type": "code",
   "execution_count": 235,
   "metadata": {
    "collapsed": false
   },
   "outputs": [
    {
     "data": {
      "text/html": [
       "<div>\n",
       "<table border=\"1\" class=\"dataframe\">\n",
       "  <thead>\n",
       "    <tr style=\"text-align: right;\">\n",
       "      <th></th>\n",
       "      <th>temperature</th>\n",
       "      <th>gender</th>\n",
       "      <th>heart_rate</th>\n",
       "    </tr>\n",
       "  </thead>\n",
       "  <tbody>\n",
       "    <tr>\n",
       "      <th>0</th>\n",
       "      <td>99.3</td>\n",
       "      <td>F</td>\n",
       "      <td>68.0</td>\n",
       "    </tr>\n",
       "    <tr>\n",
       "      <th>1</th>\n",
       "      <td>98.4</td>\n",
       "      <td>F</td>\n",
       "      <td>81.0</td>\n",
       "    </tr>\n",
       "    <tr>\n",
       "      <th>2</th>\n",
       "      <td>97.8</td>\n",
       "      <td>M</td>\n",
       "      <td>73.0</td>\n",
       "    </tr>\n",
       "    <tr>\n",
       "      <th>3</th>\n",
       "      <td>99.2</td>\n",
       "      <td>F</td>\n",
       "      <td>66.0</td>\n",
       "    </tr>\n",
       "    <tr>\n",
       "      <th>4</th>\n",
       "      <td>98.0</td>\n",
       "      <td>F</td>\n",
       "      <td>73.0</td>\n",
       "    </tr>\n",
       "  </tbody>\n",
       "</table>\n",
       "</div>"
      ],
      "text/plain": [
       "   temperature gender  heart_rate\n",
       "0         99.3      F        68.0\n",
       "1         98.4      F        81.0\n",
       "2         97.8      M        73.0\n",
       "3         99.2      F        66.0\n",
       "4         98.0      F        73.0"
      ]
     },
     "execution_count": 235,
     "metadata": {},
     "output_type": "execute_result"
    }
   ],
   "source": [
    "df.head()"
   ]
  },
  {
   "cell_type": "code",
   "execution_count": 236,
   "metadata": {
    "collapsed": true
   },
   "outputs": [],
   "source": [
    "group1=df['temperature'][df.gender=='M']\n",
    "group2=df['temperature'][df.gender=='F']"
   ]
  },
  {
   "cell_type": "code",
   "execution_count": 237,
   "metadata": {
    "collapsed": true
   },
   "outputs": [],
   "source": [
    "def TestStatistic(data):\n",
    "    group1, group2 = data\n",
    "    test_stat = abs(group1.mean() - group2.mean())\n",
    "    return test_stat"
   ]
  },
  {
   "cell_type": "code",
   "execution_count": 243,
   "metadata": {
    "collapsed": true
   },
   "outputs": [],
   "source": [
    "def RunModel():\n",
    "    np.random.shuffle(pool)\n",
    "    data = pool[:n], pool[n:]\n",
    "    return data"
   ]
  },
  {
   "cell_type": "code",
   "execution_count": 239,
   "metadata": {
    "collapsed": false
   },
   "outputs": [
    {
     "data": {
      "text/plain": [
       "0.289230769230727"
      ]
     },
     "execution_count": 239,
     "metadata": {},
     "output_type": "execute_result"
    }
   ],
   "source": [
    "actual = TestStatistic((group1, group2))\n",
    "actual"
   ]
  },
  {
   "cell_type": "code",
   "execution_count": 241,
   "metadata": {
    "collapsed": false
   },
   "outputs": [],
   "source": [
    "n, m = len(group1), len(group2)\n",
    "pool = np.hstack((group1, group2))"
   ]
  },
  {
   "cell_type": "code",
   "execution_count": 244,
   "metadata": {
    "collapsed": false
   },
   "outputs": [],
   "source": [
    "test_stats = np.array([TestStatistic(RunModel()) for i in range(1000)])"
   ]
  },
  {
   "cell_type": "code",
   "execution_count": 255,
   "metadata": {
    "collapsed": false
   },
   "outputs": [
    {
     "data": {
      "image/png": "[encoded data removed]",
      "text/plain": [
       "<matplotlib.figure.Figure at 0x11ed41fd0>"
      ]
     },
     "metadata": {},
     "output_type": "display_data"
    }
   ],
   "source": [
    "plt.hist(test_stats,bins=15,color='b')\n",
    "plt.vlines(actual, 0, 300, linewidth=3, color='r')\n",
    "plt.xlabel('Deg. F Difference Between Males and Females')\n",
    "plt.ylabel('Number Randomized Samples')\n",
    "None"
   ]
  },
  {
   "cell_type": "code",
   "execution_count": 249,
   "metadata": {
    "collapsed": false
   },
   "outputs": [
    {
     "data": {
      "text/plain": [
       "0.031"
      ]
     },
     "execution_count": 249,
     "metadata": {},
     "output_type": "execute_result"
    }
   ],
   "source": [
    "pvalue = sum(test_stats >= actual) / float(len(test_stats))\n",
    "pvalue"
   ]
  },
  {
   "cell_type": "markdown",
   "metadata": {},
   "source": [
    "## The difference between body temperatures between men and women appears real\n",
    "\n",
    "#### Men have body temperatures that are on average 0.29 deg F higher than those of women.  This difference is statistically significant.  This lends some credence to certain song lyrics, 'Hot Blooded, Check it and see...'. While not indicating a fever of 103, these data show that on average, compared to women, the body temperature of men is slightly higher."
   ]
  }
 ],
 "metadata": {
  "kernelspec": {
   "display_name": "Python 2",
   "language": "python",
   "name": "python2"
  },
  "language_info": {
   "codemirror_mode": {
    "name": "ipython",
    "version": 2
   },
   "file_extension": ".py",
   "mimetype": "text/x-python",
   "name": "python",
   "nbconvert_exporter": "python",
   "pygments_lexer": "ipython2",
   "version": "2.7.11"
  }
 },
 "nbformat": 4,
 "nbformat_minor": 0
}
