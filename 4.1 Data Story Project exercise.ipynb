{
 "cells": [
  {
   "cell_type": "markdown",
   "metadata": {},
   "source": [
    "## 4. Data Story Exercise\n",
    "####  This exercise provides an opportunity for exploratory data analysis, as a basis for developing a data story and as a means to generate questions and hypotheses for further work.  In this exercise, I use the data set on Kiva microloans, on which I have proposed to focus my capstone project.  Below I have addressed the exercise's tasks, and have presented graphics with descriptive titles.  At the end of the analysis, I make some observations, attempt to draw some insights, and begin to develop a narrative that can accompany and illuminate my analysis of this data set."
   ]
  },
  {
   "cell_type": "code",
   "execution_count": 1,
   "metadata": {
    "collapsed": true
   },
   "outputs": [],
   "source": [
    "%matplotlib inline"
   ]
  },
  {
   "cell_type": "code",
   "execution_count": 104,
   "metadata": {
    "collapsed": true
   },
   "outputs": [],
   "source": [
    "import pandas as pd\n",
    "import numpy as np\n",
    "import os\n",
    "import json\n",
    "from pandas.io.json import json_normalize\n",
    "import cPickle as pk\n",
    "import matplotlib.pyplot as plt\n",
    "import matplotlib as mpl\n",
    "import seaborn as sns\n",
    "import datetime as dt"
   ]
  },
  {
   "cell_type": "code",
   "execution_count": 3,
   "metadata": {
    "collapsed": false
   },
   "outputs": [
    {
     "data": {
      "text/html": [
       "<style>body {\n",
       "    margin: 0;\n",
       "    font-family: Helvetica;\n",
       "}\n",
       "table.dataframe {\n",
       "    border-collapse: collapse;\n",
       "    border: none;\n",
       "}\n",
       "table.dataframe tr {\n",
       "    border: none;\n",
       "}\n",
       "table.dataframe td, table.dataframe th {\n",
       "    margin: 0;\n",
       "    border: 1px solid white;\n",
       "    padding-left: 0.25em;\n",
       "    padding-right: 0.25em;\n",
       "}\n",
       "table.dataframe th:not(:empty) {\n",
       "    background-color: #fec;\n",
       "    text-align: left;\n",
       "    font-weight: normal;\n",
       "}\n",
       "table.dataframe tr:nth-child(2) th:empty {\n",
       "    border-left: none;\n",
       "    border-right: 1px dashed #888;\n",
       "}\n",
       "table.dataframe td {\n",
       "    border: 2px solid #ccf;\n",
       "    background-color: #f4f4ff;\n",
       "}\n",
       "h3 {\n",
       "    color: white;\n",
       "    background-color: black;\n",
       "    padding: 0.5em;\n",
       "}\n",
       "</style>"
      ],
      "text/plain": [
       "<IPython.core.display.HTML object>"
      ]
     },
     "execution_count": 3,
     "metadata": {},
     "output_type": "execute_result"
    }
   ],
   "source": [
    "from IPython.core.display import HTML\n",
    "css = open('style-table.css').read() + open('style-notebook.css').read()\n",
    "HTML('<style>{}</style>'.format(css))"
   ]
  },
  {
   "cell_type": "code",
   "execution_count": 4,
   "metadata": {
    "collapsed": true
   },
   "outputs": [],
   "source": [
    "handle=open('../../capstone_project/data/Kenya.pickle','r')\n",
    "df2=pk.load(handle)\n",
    "handle.close()"
   ]
  },
  {
   "cell_type": "code",
   "execution_count": 6,
   "metadata": {
    "collapsed": false
   },
   "outputs": [
    {
     "data": {
      "text/plain": [
       "Index([                                      u'activity',\n",
       "                                        u'basket_amount',\n",
       "                             u'bonus_credit_eligibility',\n",
       "                                              u'country',\n",
       "                                         u'country_code',\n",
       "                        u'currency_exchange_loss_amount',\n",
       "                                           u'delinquent',\n",
       "                                          u'description',\n",
       "                                        u'funded_amount',\n",
       "                                          u'funded_date',\n",
       "                                            u'geo.level',\n",
       "                                            u'geo.pairs',\n",
       "                                             u'geo.type',\n",
       "                                                   u'id',\n",
       "                                            u'languages',\n",
       "                                         u'lender_count',\n",
       "                                          u'loan_amount',\n",
       "                                                 u'name',\n",
       "                                                  u'obs',\n",
       "                                          u'paid_amount',\n",
       "                                            u'paid_date',\n",
       "                                           u'partner_id',\n",
       "                                             u'payments',\n",
       "                              u'planned_expiration_date',\n",
       "                                          u'posted_date',\n",
       "                                               u'sector',\n",
       "                                               u'status',\n",
       "                                                 u'tags',\n",
       "                                             u'texts.ar',\n",
       "                                             u'texts.en',\n",
       "                                             u'texts.es',\n",
       "                                             u'texts.fr',\n",
       "                                             u'texts.id',\n",
       "                                             u'texts.mn',\n",
       "                                             u'texts.pt',\n",
       "                                             u'texts.ru',\n",
       "                                             u'texts.vi',\n",
       "                                               u'themes',\n",
       "                                                 u'town',\n",
       "                                           u'translator',\n",
       "                                                  u'use',\n",
       "                                                u'video',\n",
       "                                          u'prop_female',\n",
       "                                        u'num_borrowers',\n",
       "                                                u'idnew',\n",
       "                                          u'template_id',\n",
       "                                          u'bulkEntries',\n",
       "                                              u'entries',\n",
       "                                     u'disbursal_amount',\n",
       "                                   u'disbursal_currency',\n",
       "                                       u'disbursal_date',\n",
       "                                       u'local_payments',\n",
       "                     u'loss_liability.currency_exchange',\n",
       "       u'loss_liability.currency_exchange_coverage_rate',\n",
       "                            u'loss_liability.nonpayment',\n",
       "                                   u'repayment_interval',\n",
       "                                       u'repayment_term',\n",
       "                                   u'scheduled_payments'],\n",
       "      dtype='object')"
      ]
     },
     "execution_count": 6,
     "metadata": {},
     "output_type": "execute_result"
    }
   ],
   "source": [
    "df2.columns"
   ]
  },
  {
   "cell_type": "markdown",
   "metadata": {},
   "source": [
    "## 2.1 Count something interesting  \n",
    "Here are the twenty most-frequent descriptors of the Kiva loans in Kenya. Each entry has only one of these descriptors. There seems to be some overlap in the areas covered by the activities. For example, it is not clear that *Retail* should not also include *Clothing Sales*. Does *Agriculture* include *Poultry* or *Cereals*, and should they all not fall under *Farming*?  Below this one finds counts of the loans in each of several sectors."
   ]
  },
  {
   "cell_type": "markdown",
   "metadata": {},
   "source": [
    "### Loans for Farming and Retail Activities Dominate"
   ]
  },
  {
   "cell_type": "code",
   "execution_count": 7,
   "metadata": {
    "collapsed": false,
    "scrolled": false
   },
   "outputs": [
    {
     "data": {
      "text/plain": [
       "Farming                  18326\n",
       "Dairy                     6762\n",
       "Retail                    4622\n",
       "Clothing Sales            4528\n",
       "General Store             4436\n",
       "Fruits & Vegetables       4426\n",
       "Agriculture               4191\n",
       "Poultry                   3504\n",
       "Cereals                   2713\n",
       "Grocery Store             2649\n",
       "Tailoring                 2536\n",
       "Motorcycle Transport      2532\n",
       "Food Stall                2484\n",
       "Charcoal Sales            1917\n",
       "Beauty Salon              1830\n",
       "Fish Selling              1572\n",
       "Food Production/Sales     1566\n",
       "Used Clothing             1328\n",
       "Food                      1294\n",
       "Food Market               1138\n",
       "Name: activity, dtype: int64"
      ]
     },
     "execution_count": 7,
     "metadata": {},
     "output_type": "execute_result"
    }
   ],
   "source": [
    "df2['activity'].value_counts().head(20)"
   ]
  },
  {
   "cell_type": "markdown",
   "metadata": {},
   "source": [
    "### Agriculture, Food, and Retail Loans Dominate Economic Sectors"
   ]
  },
  {
   "cell_type": "code",
   "execution_count": 238,
   "metadata": {
    "collapsed": false
   },
   "outputs": [
    {
     "data": {
      "text/plain": [
       "Agriculture       35675\n",
       "Food              21470\n",
       "Retail            15618\n",
       "Services           8024\n",
       "Clothing           6650\n",
       "Transportation     3287\n",
       "Construction       1626\n",
       "Education          1361\n",
       "Health             1175\n",
       "Personal Use        977\n",
       "Manufacturing       816\n",
       "Housing             731\n",
       "Arts                457\n",
       "Entertainment       128\n",
       "Wholesale           124\n",
       "Name: sector, dtype: int64"
      ]
     },
     "execution_count": 238,
     "metadata": {},
     "output_type": "execute_result"
    }
   ],
   "source": [
    "df2['sector'].value_counts().head(15)"
   ]
  },
  {
   "cell_type": "markdown",
   "metadata": {},
   "source": [
    "## 2.2 Find trends and extremes  \n",
    "### Two of the largest loans have been in the area of renewable energy"
   ]
  },
  {
   "cell_type": "code",
   "execution_count": 8,
   "metadata": {
    "collapsed": false,
    "scrolled": false
   },
   "outputs": [
    {
     "data": {
      "text/html": [
       "<div>\n",
       "<table border=\"1\" class=\"dataframe\">\n",
       "  <thead>\n",
       "    <tr style=\"text-align: right;\">\n",
       "      <th></th>\n",
       "      <th>activity</th>\n",
       "      <th>funded_amount</th>\n",
       "    </tr>\n",
       "  </thead>\n",
       "  <tbody>\n",
       "    <tr>\n",
       "      <th>18281</th>\n",
       "      <td>Utilities</td>\n",
       "      <td>50000</td>\n",
       "    </tr>\n",
       "    <tr>\n",
       "      <th>18939</th>\n",
       "      <td>Renewable Energy Products</td>\n",
       "      <td>50000</td>\n",
       "    </tr>\n",
       "    <tr>\n",
       "      <th>22991</th>\n",
       "      <td>Renewable Energy Products</td>\n",
       "      <td>50000</td>\n",
       "    </tr>\n",
       "    <tr>\n",
       "      <th>33910</th>\n",
       "      <td>Agriculture</td>\n",
       "      <td>50000</td>\n",
       "    </tr>\n",
       "  </tbody>\n",
       "</table>\n",
       "</div>"
      ],
      "text/plain": [
       "                        activity  funded_amount\n",
       "18281                  Utilities          50000\n",
       "18939  Renewable Energy Products          50000\n",
       "22991  Renewable Energy Products          50000\n",
       "33910                Agriculture          50000"
      ]
     },
     "execution_count": 8,
     "metadata": {},
     "output_type": "execute_result"
    }
   ],
   "source": [
    "test=df2[df2.funded_amount==df2.funded_amount.max()].iloc[:,[0,8]]\n",
    "test\n",
    "#test.reset_index().iloc[0,:]"
   ]
  },
  {
   "cell_type": "markdown",
   "metadata": {},
   "source": [
    "### The smallest loans have been for just 25 USD"
   ]
  },
  {
   "cell_type": "code",
   "execution_count": 9,
   "metadata": {
    "collapsed": false,
    "scrolled": true
   },
   "outputs": [
    {
     "data": {
      "text/html": [
       "<div>\n",
       "<table border=\"1\" class=\"dataframe\">\n",
       "  <thead>\n",
       "    <tr style=\"text-align: right;\">\n",
       "      <th></th>\n",
       "      <th>activity</th>\n",
       "      <th>sector</th>\n",
       "      <th>funded_amount</th>\n",
       "      <th>loan_amount</th>\n",
       "      <th>status</th>\n",
       "    </tr>\n",
       "  </thead>\n",
       "  <tbody>\n",
       "    <tr>\n",
       "      <th>43440</th>\n",
       "      <td>Agriculture</td>\n",
       "      <td>Agriculture</td>\n",
       "      <td>25</td>\n",
       "      <td>25</td>\n",
       "      <td>paid</td>\n",
       "    </tr>\n",
       "    <tr>\n",
       "      <th>59197</th>\n",
       "      <td>Farming</td>\n",
       "      <td>Agriculture</td>\n",
       "      <td>25</td>\n",
       "      <td>25</td>\n",
       "      <td>in_repayment</td>\n",
       "    </tr>\n",
       "    <tr>\n",
       "      <th>67390</th>\n",
       "      <td>Agriculture</td>\n",
       "      <td>Agriculture</td>\n",
       "      <td>25</td>\n",
       "      <td>25</td>\n",
       "      <td>paid</td>\n",
       "    </tr>\n",
       "    <tr>\n",
       "      <th>67721</th>\n",
       "      <td>Bicycle Repair</td>\n",
       "      <td>Services</td>\n",
       "      <td>25</td>\n",
       "      <td>25</td>\n",
       "      <td>paid</td>\n",
       "    </tr>\n",
       "    <tr>\n",
       "      <th>71473</th>\n",
       "      <td>Food Production/Sales</td>\n",
       "      <td>Food</td>\n",
       "      <td>25</td>\n",
       "      <td>25</td>\n",
       "      <td>paid</td>\n",
       "    </tr>\n",
       "    <tr>\n",
       "      <th>72923</th>\n",
       "      <td>Agriculture</td>\n",
       "      <td>Agriculture</td>\n",
       "      <td>25</td>\n",
       "      <td>25</td>\n",
       "      <td>paid</td>\n",
       "    </tr>\n",
       "    <tr>\n",
       "      <th>74082</th>\n",
       "      <td>Shoe Sales</td>\n",
       "      <td>Retail</td>\n",
       "      <td>25</td>\n",
       "      <td>25</td>\n",
       "      <td>paid</td>\n",
       "    </tr>\n",
       "    <tr>\n",
       "      <th>76591</th>\n",
       "      <td>Bakery</td>\n",
       "      <td>Food</td>\n",
       "      <td>25</td>\n",
       "      <td>25</td>\n",
       "      <td>paid</td>\n",
       "    </tr>\n",
       "  </tbody>\n",
       "</table>\n",
       "</div>"
      ],
      "text/plain": [
       "                    activity       sector  funded_amount  loan_amount  \\\n",
       "43440            Agriculture  Agriculture             25           25   \n",
       "59197                Farming  Agriculture             25           25   \n",
       "67390            Agriculture  Agriculture             25           25   \n",
       "67721         Bicycle Repair     Services             25           25   \n",
       "71473  Food Production/Sales         Food             25           25   \n",
       "72923            Agriculture  Agriculture             25           25   \n",
       "74082             Shoe Sales       Retail             25           25   \n",
       "76591                 Bakery         Food             25           25   \n",
       "\n",
       "             status  \n",
       "43440          paid  \n",
       "59197  in_repayment  \n",
       "67390          paid  \n",
       "67721          paid  \n",
       "71473          paid  \n",
       "72923          paid  \n",
       "74082          paid  \n",
       "76591          paid  "
      ]
     },
     "execution_count": 9,
     "metadata": {},
     "output_type": "execute_result"
    }
   ],
   "source": [
    "df2a = df2[df2.funded_amount>0]\n",
    "test2=df2a[(df2a.funded_amount==df2a.funded_amount.min())&((df2a.status== 'paid')|(df2a.status=='in_repayment'))]\n",
    "test2[['activity','sector','funded_amount','loan_amount','status']]"
   ]
  },
  {
   "cell_type": "code",
   "execution_count": null,
   "metadata": {
    "collapsed": true
   },
   "outputs": [],
   "source": []
  },
  {
   "cell_type": "code",
   "execution_count": 10,
   "metadata": {
    "collapsed": true
   },
   "outputs": [],
   "source": [
    "def mktime(x):\n",
    "    try:\n",
    "        tym=dt.datetime.strptime(x,\"%Y-%m-%dT%H:%M:%SZ\")\n",
    "        return tym\n",
    "    except:\n",
    "        return np.nan"
   ]
  },
  {
   "cell_type": "code",
   "execution_count": 11,
   "metadata": {
    "collapsed": true
   },
   "outputs": [],
   "source": [
    "def getyear(x):\n",
    "    try:\n",
    "        yr=np.int(x.year)\n",
    "        return yr\n",
    "    except:\n",
    "        return np.nan"
   ]
  },
  {
   "cell_type": "code",
   "execution_count": null,
   "metadata": {
    "collapsed": true
   },
   "outputs": [],
   "source": []
  },
  {
   "cell_type": "code",
   "execution_count": 12,
   "metadata": {
    "collapsed": false
   },
   "outputs": [],
   "source": [
    "fun_dat=df2a['funded_date'].apply(mktime)"
   ]
  },
  {
   "cell_type": "code",
   "execution_count": 13,
   "metadata": {
    "collapsed": false,
    "scrolled": true
   },
   "outputs": [
    {
     "name": "stderr",
     "output_type": "stream",
     "text": [
      "/Applications/anaconda/lib/python2.7/site-packages/pandas/core/indexing.py:284: SettingWithCopyWarning: \n",
      "A value is trying to be set on a copy of a slice from a DataFrame.\n",
      "Try using .loc[row_indexer,col_indexer] = value instead\n",
      "\n",
      "See the caveats in the documentation: http://pandas.pydata.org/pandas-docs/stable/indexing.html#indexing-view-versus-copy\n",
      "  self.obj[key] = _infer_fill_value(value)\n",
      "/Applications/anaconda/lib/python2.7/site-packages/pandas/core/indexing.py:461: SettingWithCopyWarning: \n",
      "A value is trying to be set on a copy of a slice from a DataFrame.\n",
      "Try using .loc[row_indexer,col_indexer] = value instead\n",
      "\n",
      "See the caveats in the documentation: http://pandas.pydata.org/pandas-docs/stable/indexing.html#indexing-view-versus-copy\n",
      "  self.obj[item] = s\n"
     ]
    }
   ],
   "source": [
    "df2a.loc[:,'funded_datetime']=fun_dat  # I checked to see that it is there, and it is"
   ]
  },
  {
   "cell_type": "code",
   "execution_count": 14,
   "metadata": {
    "collapsed": false
   },
   "outputs": [
    {
     "data": {
      "text/plain": [
       "Index([                                      u'activity',\n",
       "                                        u'basket_amount',\n",
       "                             u'bonus_credit_eligibility',\n",
       "                                              u'country',\n",
       "                                         u'country_code',\n",
       "                        u'currency_exchange_loss_amount',\n",
       "                                           u'delinquent',\n",
       "                                          u'description',\n",
       "                                        u'funded_amount',\n",
       "                                          u'funded_date',\n",
       "                                            u'geo.level',\n",
       "                                            u'geo.pairs',\n",
       "                                             u'geo.type',\n",
       "                                                   u'id',\n",
       "                                            u'languages',\n",
       "                                         u'lender_count',\n",
       "                                          u'loan_amount',\n",
       "                                                 u'name',\n",
       "                                                  u'obs',\n",
       "                                          u'paid_amount',\n",
       "                                            u'paid_date',\n",
       "                                           u'partner_id',\n",
       "                                             u'payments',\n",
       "                              u'planned_expiration_date',\n",
       "                                          u'posted_date',\n",
       "                                               u'sector',\n",
       "                                               u'status',\n",
       "                                                 u'tags',\n",
       "                                             u'texts.ar',\n",
       "                                             u'texts.en',\n",
       "                                             u'texts.es',\n",
       "                                             u'texts.fr',\n",
       "                                             u'texts.id',\n",
       "                                             u'texts.mn',\n",
       "                                             u'texts.pt',\n",
       "                                             u'texts.ru',\n",
       "                                             u'texts.vi',\n",
       "                                               u'themes',\n",
       "                                                 u'town',\n",
       "                                           u'translator',\n",
       "                                                  u'use',\n",
       "                                                u'video',\n",
       "                                          u'prop_female',\n",
       "                                        u'num_borrowers',\n",
       "                                                u'idnew',\n",
       "                                          u'template_id',\n",
       "                                          u'bulkEntries',\n",
       "                                              u'entries',\n",
       "                                     u'disbursal_amount',\n",
       "                                   u'disbursal_currency',\n",
       "                                       u'disbursal_date',\n",
       "                                       u'local_payments',\n",
       "                     u'loss_liability.currency_exchange',\n",
       "       u'loss_liability.currency_exchange_coverage_rate',\n",
       "                            u'loss_liability.nonpayment',\n",
       "                                   u'repayment_interval',\n",
       "                                       u'repayment_term',\n",
       "                                   u'scheduled_payments',\n",
       "                                      u'funded_datetime'],\n",
       "      dtype='object')"
      ]
     },
     "execution_count": 14,
     "metadata": {},
     "output_type": "execute_result"
    }
   ],
   "source": [
    "df2a.columns"
   ]
  },
  {
   "cell_type": "code",
   "execution_count": 15,
   "metadata": {
    "collapsed": false,
    "scrolled": true
   },
   "outputs": [],
   "source": [
    "fun_year=df2a['funded_datetime'].apply(getyear)"
   ]
  },
  {
   "cell_type": "code",
   "execution_count": 16,
   "metadata": {
    "collapsed": false
   },
   "outputs": [
    {
     "data": {
      "text/plain": [
       "pandas.core.series.Series"
      ]
     },
     "execution_count": 16,
     "metadata": {},
     "output_type": "execute_result"
    }
   ],
   "source": [
    "type(fun_year)          # turns out the effort to get an int here isn't going"
   ]
  },
  {
   "cell_type": "code",
   "execution_count": 17,
   "metadata": {
    "collapsed": true
   },
   "outputs": [],
   "source": [
    "df2a.loc[:,'funded_year']=fun_year"
   ]
  },
  {
   "cell_type": "code",
   "execution_count": 18,
   "metadata": {
    "collapsed": false
   },
   "outputs": [],
   "source": [
    "df2b=df2a[(df2a.funded_year.isnull()==False)&(df2a.funded_year!=2016.0)]"
   ]
  },
  {
   "cell_type": "markdown",
   "metadata": {},
   "source": [
    "### Funded loans are increasing again"
   ]
  },
  {
   "cell_type": "code",
   "execution_count": 19,
   "metadata": {
    "collapsed": false
   },
   "outputs": [
    {
     "data": {
      "image/png": "[encoded data removed]",
      "text/plain": [
       "<matplotlib.figure.Figure at 0x1254ecd90>"
      ]
     },
     "metadata": {},
     "output_type": "display_data"
    }
   ],
   "source": [
    "df2b.funded_year.value_counts().sort_index().plot(title='Funded Loans by Year');"
   ]
  },
  {
   "cell_type": "code",
   "execution_count": 20,
   "metadata": {
    "collapsed": false
   },
   "outputs": [
    {
     "data": {
      "text/plain": [
       "Agriculture       29243\n",
       "Food              19199\n",
       "Retail            13785\n",
       "Services           7364\n",
       "Clothing           5987\n",
       "Transportation     2811\n",
       "Construction       1530\n",
       "Health             1076\n",
       "Education           994\n",
       "Personal Use        922\n",
       "Manufacturing       775\n",
       "Housing             669\n",
       "Arts                418\n",
       "Entertainment       126\n",
       "Wholesale           114\n",
       "Name: sector, dtype: int64"
      ]
     },
     "execution_count": 20,
     "metadata": {},
     "output_type": "execute_result"
    }
   ],
   "source": [
    "df2b.sector.value_counts()"
   ]
  },
  {
   "cell_type": "code",
   "execution_count": 21,
   "metadata": {
    "collapsed": false
   },
   "outputs": [],
   "source": [
    "df2c=df2b.groupby(['sector','funded_year']).size()"
   ]
  },
  {
   "cell_type": "markdown",
   "metadata": {},
   "source": [
    "### The increase is due to increasing support for agriculture "
   ]
  },
  {
   "cell_type": "code",
   "execution_count": 22,
   "metadata": {
    "collapsed": false,
    "scrolled": true
   },
   "outputs": [
    {
     "data": {
      "text/plain": [
       "<matplotlib.axes._subplots.AxesSubplot at 0x138e62690>"
      ]
     },
     "execution_count": 22,
     "metadata": {},
     "output_type": "execute_result"
    },
    {
     "data": {
      "image/png": "[encoded data removed]",
      "text/plain": [
       "<matplotlib.figure.Figure at 0x10d321390>"
      ]
     },
     "metadata": {},
     "output_type": "display_data"
    }
   ],
   "source": [
    "df2c.unstack('sector').fillna(0).plot(title='Number of Loans per Sector')"
   ]
  },
  {
   "cell_type": "code",
   "execution_count": 23,
   "metadata": {
    "collapsed": false,
    "scrolled": true
   },
   "outputs": [
    {
     "data": {
      "text/html": [
       "<div>\n",
       "<table border=\"1\" class=\"dataframe\">\n",
       "  <thead>\n",
       "    <tr style=\"text-align: right;\">\n",
       "      <th>sector</th>\n",
       "      <th>Agriculture</th>\n",
       "      <th>Arts</th>\n",
       "      <th>Clothing</th>\n",
       "      <th>Construction</th>\n",
       "      <th>Education</th>\n",
       "      <th>Entertainment</th>\n",
       "      <th>Food</th>\n",
       "      <th>Health</th>\n",
       "      <th>Housing</th>\n",
       "      <th>Manufacturing</th>\n",
       "      <th>Personal Use</th>\n",
       "      <th>Retail</th>\n",
       "      <th>Services</th>\n",
       "      <th>Transportation</th>\n",
       "      <th>Wholesale</th>\n",
       "    </tr>\n",
       "    <tr>\n",
       "      <th>funded_year</th>\n",
       "      <th></th>\n",
       "      <th></th>\n",
       "      <th></th>\n",
       "      <th></th>\n",
       "      <th></th>\n",
       "      <th></th>\n",
       "      <th></th>\n",
       "      <th></th>\n",
       "      <th></th>\n",
       "      <th></th>\n",
       "      <th></th>\n",
       "      <th></th>\n",
       "      <th></th>\n",
       "      <th></th>\n",
       "      <th></th>\n",
       "    </tr>\n",
       "  </thead>\n",
       "  <tbody>\n",
       "    <tr>\n",
       "      <th>2005.0</th>\n",
       "      <td>17.0</td>\n",
       "      <td>0.0</td>\n",
       "      <td>1.0</td>\n",
       "      <td>2.0</td>\n",
       "      <td>0.0</td>\n",
       "      <td>0.0</td>\n",
       "      <td>4.0</td>\n",
       "      <td>0.0</td>\n",
       "      <td>5.0</td>\n",
       "      <td>1.0</td>\n",
       "      <td>0.0</td>\n",
       "      <td>4.0</td>\n",
       "      <td>6.0</td>\n",
       "      <td>0.0</td>\n",
       "      <td>0.0</td>\n",
       "    </tr>\n",
       "    <tr>\n",
       "      <th>2006.0</th>\n",
       "      <td>183.0</td>\n",
       "      <td>18.0</td>\n",
       "      <td>38.0</td>\n",
       "      <td>10.0</td>\n",
       "      <td>0.0</td>\n",
       "      <td>0.0</td>\n",
       "      <td>88.0</td>\n",
       "      <td>4.0</td>\n",
       "      <td>9.0</td>\n",
       "      <td>3.0</td>\n",
       "      <td>0.0</td>\n",
       "      <td>70.0</td>\n",
       "      <td>48.0</td>\n",
       "      <td>8.0</td>\n",
       "      <td>0.0</td>\n",
       "    </tr>\n",
       "    <tr>\n",
       "      <th>2007.0</th>\n",
       "      <td>578.0</td>\n",
       "      <td>58.0</td>\n",
       "      <td>198.0</td>\n",
       "      <td>32.0</td>\n",
       "      <td>1.0</td>\n",
       "      <td>2.0</td>\n",
       "      <td>553.0</td>\n",
       "      <td>46.0</td>\n",
       "      <td>12.0</td>\n",
       "      <td>28.0</td>\n",
       "      <td>0.0</td>\n",
       "      <td>316.0</td>\n",
       "      <td>213.0</td>\n",
       "      <td>23.0</td>\n",
       "      <td>2.0</td>\n",
       "    </tr>\n",
       "    <tr>\n",
       "      <th>2008.0</th>\n",
       "      <td>22.0</td>\n",
       "      <td>10.0</td>\n",
       "      <td>66.0</td>\n",
       "      <td>8.0</td>\n",
       "      <td>0.0</td>\n",
       "      <td>2.0</td>\n",
       "      <td>138.0</td>\n",
       "      <td>17.0</td>\n",
       "      <td>7.0</td>\n",
       "      <td>4.0</td>\n",
       "      <td>0.0</td>\n",
       "      <td>64.0</td>\n",
       "      <td>47.0</td>\n",
       "      <td>5.0</td>\n",
       "      <td>1.0</td>\n",
       "    </tr>\n",
       "    <tr>\n",
       "      <th>2009.0</th>\n",
       "      <td>130.0</td>\n",
       "      <td>10.0</td>\n",
       "      <td>245.0</td>\n",
       "      <td>16.0</td>\n",
       "      <td>21.0</td>\n",
       "      <td>8.0</td>\n",
       "      <td>420.0</td>\n",
       "      <td>26.0</td>\n",
       "      <td>13.0</td>\n",
       "      <td>51.0</td>\n",
       "      <td>0.0</td>\n",
       "      <td>382.0</td>\n",
       "      <td>268.0</td>\n",
       "      <td>71.0</td>\n",
       "      <td>9.0</td>\n",
       "    </tr>\n",
       "    <tr>\n",
       "      <th>2010.0</th>\n",
       "      <td>1887.0</td>\n",
       "      <td>43.0</td>\n",
       "      <td>490.0</td>\n",
       "      <td>131.0</td>\n",
       "      <td>58.0</td>\n",
       "      <td>14.0</td>\n",
       "      <td>1103.0</td>\n",
       "      <td>47.0</td>\n",
       "      <td>43.0</td>\n",
       "      <td>132.0</td>\n",
       "      <td>9.0</td>\n",
       "      <td>1055.0</td>\n",
       "      <td>662.0</td>\n",
       "      <td>234.0</td>\n",
       "      <td>26.0</td>\n",
       "    </tr>\n",
       "    <tr>\n",
       "      <th>2011.0</th>\n",
       "      <td>4367.0</td>\n",
       "      <td>69.0</td>\n",
       "      <td>896.0</td>\n",
       "      <td>348.0</td>\n",
       "      <td>105.0</td>\n",
       "      <td>16.0</td>\n",
       "      <td>2511.0</td>\n",
       "      <td>98.0</td>\n",
       "      <td>106.0</td>\n",
       "      <td>171.0</td>\n",
       "      <td>26.0</td>\n",
       "      <td>2123.0</td>\n",
       "      <td>1248.0</td>\n",
       "      <td>438.0</td>\n",
       "      <td>21.0</td>\n",
       "    </tr>\n",
       "    <tr>\n",
       "      <th>2012.0</th>\n",
       "      <td>3589.0</td>\n",
       "      <td>57.0</td>\n",
       "      <td>1300.0</td>\n",
       "      <td>304.0</td>\n",
       "      <td>242.0</td>\n",
       "      <td>47.0</td>\n",
       "      <td>4072.0</td>\n",
       "      <td>116.0</td>\n",
       "      <td>170.0</td>\n",
       "      <td>133.0</td>\n",
       "      <td>127.0</td>\n",
       "      <td>3107.0</td>\n",
       "      <td>1580.0</td>\n",
       "      <td>673.0</td>\n",
       "      <td>23.0</td>\n",
       "    </tr>\n",
       "    <tr>\n",
       "      <th>2013.0</th>\n",
       "      <td>4198.0</td>\n",
       "      <td>53.0</td>\n",
       "      <td>1021.0</td>\n",
       "      <td>234.0</td>\n",
       "      <td>248.0</td>\n",
       "      <td>16.0</td>\n",
       "      <td>3855.0</td>\n",
       "      <td>286.0</td>\n",
       "      <td>148.0</td>\n",
       "      <td>96.0</td>\n",
       "      <td>500.0</td>\n",
       "      <td>2303.0</td>\n",
       "      <td>1242.0</td>\n",
       "      <td>486.0</td>\n",
       "      <td>21.0</td>\n",
       "    </tr>\n",
       "    <tr>\n",
       "      <th>2014.0</th>\n",
       "      <td>4868.0</td>\n",
       "      <td>43.0</td>\n",
       "      <td>885.0</td>\n",
       "      <td>201.0</td>\n",
       "      <td>180.0</td>\n",
       "      <td>14.0</td>\n",
       "      <td>3242.0</td>\n",
       "      <td>285.0</td>\n",
       "      <td>88.0</td>\n",
       "      <td>95.0</td>\n",
       "      <td>157.0</td>\n",
       "      <td>2139.0</td>\n",
       "      <td>1088.0</td>\n",
       "      <td>413.0</td>\n",
       "      <td>6.0</td>\n",
       "    </tr>\n",
       "    <tr>\n",
       "      <th>2015.0</th>\n",
       "      <td>9404.0</td>\n",
       "      <td>57.0</td>\n",
       "      <td>847.0</td>\n",
       "      <td>244.0</td>\n",
       "      <td>139.0</td>\n",
       "      <td>7.0</td>\n",
       "      <td>3213.0</td>\n",
       "      <td>151.0</td>\n",
       "      <td>68.0</td>\n",
       "      <td>61.0</td>\n",
       "      <td>103.0</td>\n",
       "      <td>2222.0</td>\n",
       "      <td>962.0</td>\n",
       "      <td>460.0</td>\n",
       "      <td>5.0</td>\n",
       "    </tr>\n",
       "  </tbody>\n",
       "</table>\n",
       "</div>"
      ],
      "text/plain": [
       "sector       Agriculture  Arts  Clothing  Construction  Education  \\\n",
       "funded_year                                                         \n",
       "2005.0              17.0   0.0       1.0           2.0        0.0   \n",
       "2006.0             183.0  18.0      38.0          10.0        0.0   \n",
       "2007.0             578.0  58.0     198.0          32.0        1.0   \n",
       "2008.0              22.0  10.0      66.0           8.0        0.0   \n",
       "2009.0             130.0  10.0     245.0          16.0       21.0   \n",
       "2010.0            1887.0  43.0     490.0         131.0       58.0   \n",
       "2011.0            4367.0  69.0     896.0         348.0      105.0   \n",
       "2012.0            3589.0  57.0    1300.0         304.0      242.0   \n",
       "2013.0            4198.0  53.0    1021.0         234.0      248.0   \n",
       "2014.0            4868.0  43.0     885.0         201.0      180.0   \n",
       "2015.0            9404.0  57.0     847.0         244.0      139.0   \n",
       "\n",
       "sector       Entertainment    Food  Health  Housing  Manufacturing  \\\n",
       "funded_year                                                          \n",
       "2005.0                 0.0     4.0     0.0      5.0            1.0   \n",
       "2006.0                 0.0    88.0     4.0      9.0            3.0   \n",
       "2007.0                 2.0   553.0    46.0     12.0           28.0   \n",
       "2008.0                 2.0   138.0    17.0      7.0            4.0   \n",
       "2009.0                 8.0   420.0    26.0     13.0           51.0   \n",
       "2010.0                14.0  1103.0    47.0     43.0          132.0   \n",
       "2011.0                16.0  2511.0    98.0    106.0          171.0   \n",
       "2012.0                47.0  4072.0   116.0    170.0          133.0   \n",
       "2013.0                16.0  3855.0   286.0    148.0           96.0   \n",
       "2014.0                14.0  3242.0   285.0     88.0           95.0   \n",
       "2015.0                 7.0  3213.0   151.0     68.0           61.0   \n",
       "\n",
       "sector       Personal Use  Retail  Services  Transportation  Wholesale  \n",
       "funded_year                                                             \n",
       "2005.0                0.0     4.0       6.0             0.0        0.0  \n",
       "2006.0                0.0    70.0      48.0             8.0        0.0  \n",
       "2007.0                0.0   316.0     213.0            23.0        2.0  \n",
       "2008.0                0.0    64.0      47.0             5.0        1.0  \n",
       "2009.0                0.0   382.0     268.0            71.0        9.0  \n",
       "2010.0                9.0  1055.0     662.0           234.0       26.0  \n",
       "2011.0               26.0  2123.0    1248.0           438.0       21.0  \n",
       "2012.0              127.0  3107.0    1580.0           673.0       23.0  \n",
       "2013.0              500.0  2303.0    1242.0           486.0       21.0  \n",
       "2014.0              157.0  2139.0    1088.0           413.0        6.0  \n",
       "2015.0              103.0  2222.0     962.0           460.0        5.0  "
      ]
     },
     "execution_count": 23,
     "metadata": {},
     "output_type": "execute_result"
    }
   ],
   "source": [
    "df2c.unstack('sector').fillna(0)"
   ]
  },
  {
   "cell_type": "code",
   "execution_count": 220,
   "metadata": {
    "collapsed": false,
    "scrolled": false
   },
   "outputs": [
    {
     "data": {
      "text/html": [
       "<div>\n",
       "<table border=\"1\" class=\"dataframe\">\n",
       "  <thead>\n",
       "    <tr style=\"text-align: right;\">\n",
       "      <th>prop_female</th>\n",
       "      <th>funded_year</th>\n",
       "      <th>Female</th>\n",
       "      <th>Male</th>\n",
       "    </tr>\n",
       "  </thead>\n",
       "  <tbody>\n",
       "    <tr>\n",
       "      <th>0</th>\n",
       "      <td>2005.0</td>\n",
       "      <td>16</td>\n",
       "      <td>1</td>\n",
       "    </tr>\n",
       "    <tr>\n",
       "      <th>1</th>\n",
       "      <td>2006.0</td>\n",
       "      <td>165</td>\n",
       "      <td>18</td>\n",
       "    </tr>\n",
       "    <tr>\n",
       "      <th>2</th>\n",
       "      <td>2007.0</td>\n",
       "      <td>500</td>\n",
       "      <td>78</td>\n",
       "    </tr>\n",
       "    <tr>\n",
       "      <th>3</th>\n",
       "      <td>2008.0</td>\n",
       "      <td>10</td>\n",
       "      <td>10</td>\n",
       "    </tr>\n",
       "    <tr>\n",
       "      <th>4</th>\n",
       "      <td>2009.0</td>\n",
       "      <td>76</td>\n",
       "      <td>54</td>\n",
       "    </tr>\n",
       "    <tr>\n",
       "      <th>5</th>\n",
       "      <td>2010.0</td>\n",
       "      <td>765</td>\n",
       "      <td>1122</td>\n",
       "    </tr>\n",
       "    <tr>\n",
       "      <th>6</th>\n",
       "      <td>2011.0</td>\n",
       "      <td>1621</td>\n",
       "      <td>1982</td>\n",
       "    </tr>\n",
       "    <tr>\n",
       "      <th>7</th>\n",
       "      <td>2012.0</td>\n",
       "      <td>1677</td>\n",
       "      <td>1572</td>\n",
       "    </tr>\n",
       "    <tr>\n",
       "      <th>8</th>\n",
       "      <td>2013.0</td>\n",
       "      <td>1777</td>\n",
       "      <td>1744</td>\n",
       "    </tr>\n",
       "    <tr>\n",
       "      <th>9</th>\n",
       "      <td>2014.0</td>\n",
       "      <td>2681</td>\n",
       "      <td>1532</td>\n",
       "    </tr>\n",
       "    <tr>\n",
       "      <th>10</th>\n",
       "      <td>2015.0</td>\n",
       "      <td>5293</td>\n",
       "      <td>2227</td>\n",
       "    </tr>\n",
       "  </tbody>\n",
       "</table>\n",
       "</div>"
      ],
      "text/plain": [
       "prop_female  funded_year  Female  Male\n",
       "0                 2005.0      16     1\n",
       "1                 2006.0     165    18\n",
       "2                 2007.0     500    78\n",
       "3                 2008.0      10    10\n",
       "4                 2009.0      76    54\n",
       "5                 2010.0     765  1122\n",
       "6                 2011.0    1621  1982\n",
       "7                 2012.0    1677  1572\n",
       "8                 2013.0    1777  1744\n",
       "9                 2014.0    2681  1532\n",
       "10                2015.0    5293  2227"
      ]
     },
     "execution_count": 220,
     "metadata": {},
     "output_type": "execute_result"
    }
   ],
   "source": [
    "df2c1= df2b[(df2b['sector']=='Agriculture')&((df2b.prop_female==1)|(df2b.prop_female==0))].groupby(['prop_female','funded_year'],as_index=False).size()\n",
    "df2c1=df2c1.unstack('prop_female').reset_index()\n",
    "df2c1.loc[:,'Female']=df2c1.iloc[:,2]\n",
    "df2c1.loc[:,'Male']=df2c1.iloc[:,1]\n",
    "cols=[1,2]\n",
    "df2c1=df2c1.drop(df2c1.columns[cols],axis=1)\n",
    "df2c1"
   ]
  },
  {
   "cell_type": "markdown",
   "metadata": {},
   "source": [
    "### Growth in Agriculture Sector Loans: More Loans to Women"
   ]
  },
  {
   "cell_type": "code",
   "execution_count": 236,
   "metadata": {
    "collapsed": false
   },
   "outputs": [
    {
     "data": {
      "image/png": "[encoded data removed]",
      "text/plain": [
       "<matplotlib.figure.Figure at 0x17ee49610>"
      ]
     },
     "metadata": {},
     "output_type": "display_data"
    }
   ],
   "source": [
    "fig=plt.figure(figsize=(12,8),facecolor='white')          #open a figure\n",
    "ax=fig.add_subplot(1,1,1)#, axisbg='white')\n",
    "ax.spines['bottom'].set_color('red')\n",
    "ax.set_xlabel('Year',fontsize=20)\n",
    "ax.set_ylabel('Number of Agricultural Sector Loans',fontsize=20)\n",
    "\n",
    "ax.plot(df2c1.iloc[:,0], df2c1.iloc[:,1],linewidth=4)\n",
    "ax.plot(df2c1.iloc[:,0], df2c1.iloc[:,2],linewidth=4)\n",
    "\n",
    "ax.legend(loc='upper center', prop={'size':18})         #display a legend\n",
    "for tick in ax.xaxis.get_major_ticks():                 #set the size of the tick labels on the x-axis\n",
    "                tick.label.set_fontsize(14) \n",
    "for tick in ax.yaxis.get_major_ticks():                 #set the size of the tick labels on the y-axis\n",
    "                tick.label.set_fontsize(14)\n",
    "\n"
   ]
  },
  {
   "cell_type": "code",
   "execution_count": null,
   "metadata": {
    "collapsed": true
   },
   "outputs": [],
   "source": []
  },
  {
   "cell_type": "code",
   "execution_count": null,
   "metadata": {
    "collapsed": true
   },
   "outputs": [],
   "source": []
  },
  {
   "cell_type": "code",
   "execution_count": null,
   "metadata": {
    "collapsed": true
   },
   "outputs": [],
   "source": []
  },
  {
   "cell_type": "markdown",
   "metadata": {},
   "source": [
    "## 2.3 Make bar plots or histograms"
   ]
  },
  {
   "cell_type": "code",
   "execution_count": 24,
   "metadata": {
    "collapsed": true
   },
   "outputs": [],
   "source": [
    "df2d=df2a[(df2a.funded_year.isnull()==False)&(df2a.funded_year!=2016.0)]"
   ]
  },
  {
   "cell_type": "code",
   "execution_count": 25,
   "metadata": {
    "collapsed": false
   },
   "outputs": [],
   "source": [
    "arr =np.array(df2d.funded_amount[df2d.funded_amount<=2500])\n",
    "loans=pd.cut(arr,bins=[-0.1,250,500,750,1000,1500,2000,2500],labels=['<250','<500','<750','<1000','<1500','<2000','<2500'])"
   ]
  },
  {
   "cell_type": "markdown",
   "metadata": {},
   "source": [
    "### Most Loans Are Less Than 500 US Dollars"
   ]
  },
  {
   "cell_type": "code",
   "execution_count": 31,
   "metadata": {
    "collapsed": false,
    "scrolled": true
   },
   "outputs": [
    {
     "data": {
      "image/png": "[encoded data removed]",
      "text/plain": [
       "<matplotlib.figure.Figure at 0x17ee5d510>"
      ]
     },
     "metadata": {},
     "output_type": "display_data"
    }
   ],
   "source": [
    "loans.value_counts().plot(kind='bar',title='Most Loans Are Less Than 500 USD').set_ylabel('Number Loans');"
   ]
  },
  {
   "cell_type": "markdown",
   "metadata": {},
   "source": [
    "### Defaults On Loans Are Rare"
   ]
  },
  {
   "cell_type": "code",
   "execution_count": 32,
   "metadata": {
    "collapsed": false,
    "scrolled": true
   },
   "outputs": [
    {
     "data": {
      "text/plain": [
       "<matplotlib.axes._subplots.AxesSubplot at 0x17f2a9890>"
      ]
     },
     "execution_count": 32,
     "metadata": {},
     "output_type": "execute_result"
    },
    {
     "data": {
      "image/png": "[encoded data removed]",
      "text/plain": [
       "<matplotlib.figure.Figure at 0x17f2a90d0>"
      ]
     },
     "metadata": {},
     "output_type": "display_data"
    }
   ],
   "source": [
    "series1=df2d.status.value_counts()/df2d.status.value_counts().sum()\n",
    "#series1\n",
    "pd.DataFrame({'proportion':series1}).plot(kind='bar')\n",
    "#pd.DataFrame(series1,columns='proportion',index=series1.index())"
   ]
  },
  {
   "cell_type": "code",
   "execution_count": 34,
   "metadata": {
    "collapsed": true
   },
   "outputs": [],
   "source": [
    "df2e=df2b[(df2b.num_borrowers==1)&((df2b.prop_female==1)|(df2b.prop_female==0))]"
   ]
  },
  {
   "cell_type": "code",
   "execution_count": 59,
   "metadata": {
    "collapsed": false,
    "scrolled": true
   },
   "outputs": [],
   "source": [
    "sex_status=df2e.groupby(['status','prop_female']).size().unstack('status')"
   ]
  },
  {
   "cell_type": "code",
   "execution_count": 61,
   "metadata": {
    "collapsed": true
   },
   "outputs": [],
   "source": [
    "sex_status['total']=sex_status.paid+sex_status.in_repayment+sex_status.defaulted"
   ]
  },
  {
   "cell_type": "code",
   "execution_count": 62,
   "metadata": {
    "collapsed": false
   },
   "outputs": [
    {
     "data": {
      "text/html": [
       "<div>\n",
       "<table border=\"1\" class=\"dataframe\">\n",
       "  <thead>\n",
       "    <tr style=\"text-align: right;\">\n",
       "      <th>status</th>\n",
       "      <th>defaulted</th>\n",
       "      <th>in_repayment</th>\n",
       "      <th>paid</th>\n",
       "      <th>total</th>\n",
       "      <th>prop_defaulted</th>\n",
       "    </tr>\n",
       "    <tr>\n",
       "      <th>prop_female</th>\n",
       "      <th></th>\n",
       "      <th></th>\n",
       "      <th></th>\n",
       "      <th></th>\n",
       "      <th></th>\n",
       "    </tr>\n",
       "  </thead>\n",
       "  <tbody>\n",
       "    <tr>\n",
       "      <th>0.0</th>\n",
       "      <td>1242</td>\n",
       "      <td>3780</td>\n",
       "      <td>23026</td>\n",
       "      <td>28048</td>\n",
       "      <td>0.044281</td>\n",
       "    </tr>\n",
       "    <tr>\n",
       "      <th>1.0</th>\n",
       "      <td>2369</td>\n",
       "      <td>8571</td>\n",
       "      <td>39993</td>\n",
       "      <td>50933</td>\n",
       "      <td>0.046512</td>\n",
       "    </tr>\n",
       "  </tbody>\n",
       "</table>\n",
       "</div>"
      ],
      "text/plain": [
       "status       defaulted  in_repayment   paid  total  prop_defaulted\n",
       "prop_female                                                       \n",
       "0.0               1242          3780  23026  28048        0.044281\n",
       "1.0               2369          8571  39993  50933        0.046512"
      ]
     },
     "execution_count": 62,
     "metadata": {},
     "output_type": "execute_result"
    }
   ],
   "source": [
    "sex_status['prop_defaulted']= sex_status.defaulted/sex_status.total\n",
    "sex_status"
   ]
  },
  {
   "cell_type": "markdown",
   "metadata": {},
   "source": [
    "### Default Rates For Men And Women Are Similar"
   ]
  },
  {
   "cell_type": "code",
   "execution_count": 73,
   "metadata": {
    "collapsed": false,
    "scrolled": true
   },
   "outputs": [
    {
     "data": {
      "image/png": "[encoded data removed]",
      "text/plain": [
       "<matplotlib.figure.Figure at 0x1839ff950>"
      ]
     },
     "metadata": {},
     "output_type": "display_data"
    }
   ],
   "source": [
    "graph1=sex_status.iloc[:,4].plot(kind='bar',title='Default Rate by Gender of Recipient').set_ylabel('Proportion Defaulted')"
   ]
  },
  {
   "cell_type": "code",
   "execution_count": 86,
   "metadata": {
    "collapsed": false,
    "scrolled": true
   },
   "outputs": [
    {
     "data": {
      "text/html": [
       "<div>\n",
       "<table border=\"1\" class=\"dataframe\">\n",
       "  <thead>\n",
       "    <tr style=\"text-align: right;\">\n",
       "      <th></th>\n",
       "      <th>num_borrowers</th>\n",
       "      <th>funded_amount</th>\n",
       "      <th>lender_count</th>\n",
       "    </tr>\n",
       "  </thead>\n",
       "  <tbody>\n",
       "    <tr>\n",
       "      <th>0</th>\n",
       "      <td>1</td>\n",
       "      <td>438.915056</td>\n",
       "      <td>13.851129</td>\n",
       "    </tr>\n",
       "    <tr>\n",
       "      <th>1</th>\n",
       "      <td>2</td>\n",
       "      <td>380.360825</td>\n",
       "      <td>12.010309</td>\n",
       "    </tr>\n",
       "    <tr>\n",
       "      <th>2</th>\n",
       "      <td>3</td>\n",
       "      <td>813.666667</td>\n",
       "      <td>26.344444</td>\n",
       "    </tr>\n",
       "    <tr>\n",
       "      <th>3</th>\n",
       "      <td>4</td>\n",
       "      <td>1181.807780</td>\n",
       "      <td>37.782609</td>\n",
       "    </tr>\n",
       "    <tr>\n",
       "      <th>4</th>\n",
       "      <td>5</td>\n",
       "      <td>1515.092593</td>\n",
       "      <td>49.233333</td>\n",
       "    </tr>\n",
       "    <tr>\n",
       "      <th>5</th>\n",
       "      <td>6</td>\n",
       "      <td>1431.783537</td>\n",
       "      <td>46.597561</td>\n",
       "    </tr>\n",
       "    <tr>\n",
       "      <th>6</th>\n",
       "      <td>7</td>\n",
       "      <td>1417.291667</td>\n",
       "      <td>46.283333</td>\n",
       "    </tr>\n",
       "    <tr>\n",
       "      <th>7</th>\n",
       "      <td>8</td>\n",
       "      <td>1445.182292</td>\n",
       "      <td>45.770833</td>\n",
       "    </tr>\n",
       "    <tr>\n",
       "      <th>8</th>\n",
       "      <td>9</td>\n",
       "      <td>1440.409836</td>\n",
       "      <td>44.629508</td>\n",
       "    </tr>\n",
       "    <tr>\n",
       "      <th>9</th>\n",
       "      <td>10</td>\n",
       "      <td>956.516768</td>\n",
       "      <td>29.538110</td>\n",
       "    </tr>\n",
       "    <tr>\n",
       "      <th>10</th>\n",
       "      <td>11</td>\n",
       "      <td>1086.720430</td>\n",
       "      <td>34.032258</td>\n",
       "    </tr>\n",
       "    <tr>\n",
       "      <th>11</th>\n",
       "      <td>12</td>\n",
       "      <td>1089.931507</td>\n",
       "      <td>33.386301</td>\n",
       "    </tr>\n",
       "    <tr>\n",
       "      <th>12</th>\n",
       "      <td>13</td>\n",
       "      <td>1171.863118</td>\n",
       "      <td>34.634981</td>\n",
       "    </tr>\n",
       "    <tr>\n",
       "      <th>13</th>\n",
       "      <td>14</td>\n",
       "      <td>1270.063025</td>\n",
       "      <td>37.373950</td>\n",
       "    </tr>\n",
       "    <tr>\n",
       "      <th>14</th>\n",
       "      <td>15</td>\n",
       "      <td>1363.647959</td>\n",
       "      <td>40.729592</td>\n",
       "    </tr>\n",
       "    <tr>\n",
       "      <th>15</th>\n",
       "      <td>16</td>\n",
       "      <td>1405.575540</td>\n",
       "      <td>39.928058</td>\n",
       "    </tr>\n",
       "    <tr>\n",
       "      <th>16</th>\n",
       "      <td>17</td>\n",
       "      <td>1085.294118</td>\n",
       "      <td>33.607843</td>\n",
       "    </tr>\n",
       "    <tr>\n",
       "      <th>17</th>\n",
       "      <td>18</td>\n",
       "      <td>807.812500</td>\n",
       "      <td>25.656250</td>\n",
       "    </tr>\n",
       "    <tr>\n",
       "      <th>18</th>\n",
       "      <td>19</td>\n",
       "      <td>851.408451</td>\n",
       "      <td>26.915493</td>\n",
       "    </tr>\n",
       "    <tr>\n",
       "      <th>19</th>\n",
       "      <td>20</td>\n",
       "      <td>862.686567</td>\n",
       "      <td>26.716418</td>\n",
       "    </tr>\n",
       "    <tr>\n",
       "      <th>20</th>\n",
       "      <td>21</td>\n",
       "      <td>919.117647</td>\n",
       "      <td>28.382353</td>\n",
       "    </tr>\n",
       "    <tr>\n",
       "      <th>21</th>\n",
       "      <td>22</td>\n",
       "      <td>907.352941</td>\n",
       "      <td>27.058824</td>\n",
       "    </tr>\n",
       "    <tr>\n",
       "      <th>22</th>\n",
       "      <td>23</td>\n",
       "      <td>1013.333333</td>\n",
       "      <td>32.066667</td>\n",
       "    </tr>\n",
       "    <tr>\n",
       "      <th>23</th>\n",
       "      <td>24</td>\n",
       "      <td>1045.000000</td>\n",
       "      <td>33.400000</td>\n",
       "    </tr>\n",
       "    <tr>\n",
       "      <th>24</th>\n",
       "      <td>25</td>\n",
       "      <td>1025.000000</td>\n",
       "      <td>29.800000</td>\n",
       "    </tr>\n",
       "    <tr>\n",
       "      <th>25</th>\n",
       "      <td>26</td>\n",
       "      <td>2346.875000</td>\n",
       "      <td>77.375000</td>\n",
       "    </tr>\n",
       "    <tr>\n",
       "      <th>26</th>\n",
       "      <td>27</td>\n",
       "      <td>937.500000</td>\n",
       "      <td>22.000000</td>\n",
       "    </tr>\n",
       "    <tr>\n",
       "      <th>27</th>\n",
       "      <td>28</td>\n",
       "      <td>1150.000000</td>\n",
       "      <td>33.666667</td>\n",
       "    </tr>\n",
       "    <tr>\n",
       "      <th>28</th>\n",
       "      <td>29</td>\n",
       "      <td>1225.000000</td>\n",
       "      <td>44.000000</td>\n",
       "    </tr>\n",
       "    <tr>\n",
       "      <th>29</th>\n",
       "      <td>30</td>\n",
       "      <td>1225.000000</td>\n",
       "      <td>39.000000</td>\n",
       "    </tr>\n",
       "    <tr>\n",
       "      <th>30</th>\n",
       "      <td>31</td>\n",
       "      <td>1450.000000</td>\n",
       "      <td>50.000000</td>\n",
       "    </tr>\n",
       "    <tr>\n",
       "      <th>31</th>\n",
       "      <td>32</td>\n",
       "      <td>1283.333333</td>\n",
       "      <td>37.000000</td>\n",
       "    </tr>\n",
       "    <tr>\n",
       "      <th>32</th>\n",
       "      <td>33</td>\n",
       "      <td>1275.000000</td>\n",
       "      <td>45.500000</td>\n",
       "    </tr>\n",
       "    <tr>\n",
       "      <th>33</th>\n",
       "      <td>34</td>\n",
       "      <td>2150.000000</td>\n",
       "      <td>78.000000</td>\n",
       "    </tr>\n",
       "    <tr>\n",
       "      <th>34</th>\n",
       "      <td>37</td>\n",
       "      <td>1550.000000</td>\n",
       "      <td>45.000000</td>\n",
       "    </tr>\n",
       "    <tr>\n",
       "      <th>35</th>\n",
       "      <td>39</td>\n",
       "      <td>1525.000000</td>\n",
       "      <td>50.000000</td>\n",
       "    </tr>\n",
       "    <tr>\n",
       "      <th>36</th>\n",
       "      <td>40</td>\n",
       "      <td>5000.000000</td>\n",
       "      <td>133.000000</td>\n",
       "    </tr>\n",
       "    <tr>\n",
       "      <th>37</th>\n",
       "      <td>41</td>\n",
       "      <td>2600.000000</td>\n",
       "      <td>99.000000</td>\n",
       "    </tr>\n",
       "    <tr>\n",
       "      <th>38</th>\n",
       "      <td>42</td>\n",
       "      <td>1625.000000</td>\n",
       "      <td>45.000000</td>\n",
       "    </tr>\n",
       "    <tr>\n",
       "      <th>39</th>\n",
       "      <td>45</td>\n",
       "      <td>4000.000000</td>\n",
       "      <td>116.000000</td>\n",
       "    </tr>\n",
       "    <tr>\n",
       "      <th>40</th>\n",
       "      <td>46</td>\n",
       "      <td>1775.000000</td>\n",
       "      <td>60.000000</td>\n",
       "    </tr>\n",
       "  </tbody>\n",
       "</table>\n",
       "</div>"
      ],
      "text/plain": [
       "    num_borrowers  funded_amount  lender_count\n",
       "0               1     438.915056     13.851129\n",
       "1               2     380.360825     12.010309\n",
       "2               3     813.666667     26.344444\n",
       "3               4    1181.807780     37.782609\n",
       "4               5    1515.092593     49.233333\n",
       "5               6    1431.783537     46.597561\n",
       "6               7    1417.291667     46.283333\n",
       "7               8    1445.182292     45.770833\n",
       "8               9    1440.409836     44.629508\n",
       "9              10     956.516768     29.538110\n",
       "10             11    1086.720430     34.032258\n",
       "11             12    1089.931507     33.386301\n",
       "12             13    1171.863118     34.634981\n",
       "13             14    1270.063025     37.373950\n",
       "14             15    1363.647959     40.729592\n",
       "15             16    1405.575540     39.928058\n",
       "16             17    1085.294118     33.607843\n",
       "17             18     807.812500     25.656250\n",
       "18             19     851.408451     26.915493\n",
       "19             20     862.686567     26.716418\n",
       "20             21     919.117647     28.382353\n",
       "21             22     907.352941     27.058824\n",
       "22             23    1013.333333     32.066667\n",
       "23             24    1045.000000     33.400000\n",
       "24             25    1025.000000     29.800000\n",
       "25             26    2346.875000     77.375000\n",
       "26             27     937.500000     22.000000\n",
       "27             28    1150.000000     33.666667\n",
       "28             29    1225.000000     44.000000\n",
       "29             30    1225.000000     39.000000\n",
       "30             31    1450.000000     50.000000\n",
       "31             32    1283.333333     37.000000\n",
       "32             33    1275.000000     45.500000\n",
       "33             34    2150.000000     78.000000\n",
       "34             37    1550.000000     45.000000\n",
       "35             39    1525.000000     50.000000\n",
       "36             40    5000.000000    133.000000\n",
       "37             41    2600.000000     99.000000\n",
       "38             42    1625.000000     45.000000\n",
       "39             45    4000.000000    116.000000\n",
       "40             46    1775.000000     60.000000"
      ]
     },
     "execution_count": 86,
     "metadata": {},
     "output_type": "execute_result"
    }
   ],
   "source": [
    "df2f=df2b[['num_borrowers','funded_amount','lender_count']].groupby('num_borrowers',as_index=False).mean()\n",
    "df2f"
   ]
  },
  {
   "cell_type": "markdown",
   "metadata": {},
   "source": [
    "### Larger Loans Involve More Lenders"
   ]
  },
  {
   "cell_type": "code",
   "execution_count": 248,
   "metadata": {
    "collapsed": false,
    "scrolled": true
   },
   "outputs": [
    {
     "data": {
      "image/png": "[encoded data removed]",
      "text/plain": [
       "<matplotlib.figure.Figure at 0x1839505d0>"
      ]
     },
     "metadata": {},
     "output_type": "display_data"
    }
   ],
   "source": [
    "color=df2f['lender_count']#/df2f['lender_count'].max()   #define the colors on raw values\n",
    "\n",
    "fig=plt.figure(figsize=(12,8)) #,facecolor='white')          #open a figure\n",
    "ax=fig.add_subplot(1,1,1) #,axisbg='white')                #open a plot in the figure \n",
    "ax.set_xlabel('Number of Borrowers',fontsize=20)\n",
    "ax.set_ylabel('Funded Amount',fontsize=20)\n",
    "ax.spines['bottom'].set_color('red')                   #This does not work here\n",
    "for child in ax.get_children():\n",
    "    if isinstance(child, mpl.spines.Spine):\n",
    "        child.set_color('black')\n",
    "ax.grid(True,color='white')\n",
    "for tick in ax.xaxis.get_major_ticks():                 #set the size of the tick labels on the x-axis\n",
    "                tick.label.set_fontsize(14) \n",
    "for tick in ax.yaxis.get_major_ticks():                 #set the size of the tick labels on the y-axis\n",
    "                tick.label.set_fontsize(14)\n",
    "                #tick.label.set_rotation('vertical')    # you can rotate the tick labels\n",
    "\n",
    "cmap=plt.cm.Blues                                        #define a colormap, see http://scipy.github.io/old-wiki/pages/Cookbook/Matplotlib/Show_colormaps\n",
    "                                                         \n",
    "bounds=np.linspace(1,df2f['lender_count'].max(),10,      #determine the breaks for the intervals in the colorbar\n",
    "                   endpoint=True).round()\n",
    "norm = mpl.colors.BoundaryNorm(bounds, cmap.N)           #adjust the color intervals to the breaks\n",
    "scat = plt.scatter(df2f.num_borrowers,df2f.funded_amount,c=color,s=(df2f.lender_count * 5),norm=norm,cmap=cmap)\n",
    "cb=fig.colorbar(scat,ax=ax)                           #plot the colorbar\n",
    "cb.ax.tick_params(labelsize=14)\n",
    "cb.set_label(label='Mean Number Lenders',size=16,weight='bold')\n",
    "#cb.set_label(label='a label',weight='bold')\n",
    "plt.show()"
   ]
  },
  {
   "cell_type": "markdown",
   "metadata": {},
   "source": [
    "## 3. Correlations, Insights, Questions and Hypotheses\n",
    "#### Most Kiva loans in Kenya are in the agricultural, food, and retail sectors. The loans vary greatly in size, ranging from 25 to 50,000 USD.  The majority of loans have been for less than 500 USD. The number of lenders that contribute to a loan increases with loan size, which certainly is not surprising.  The number of loans made per year in Kenya decreased for two years until 2014, but then rebounded substantially in 2015.  This rebound was associated with an increase in the number of agricultural loans made to women.  The rate of default on loans is about 5%, with the default rate on single-borrower loans being roughly equal.\n",
    "**Questions and Hypotheses**: \n",
    ">What activities are subsumed by agricultural loans to women? I predict that they are primarily used for materials to increase productivity, such as newer seed varieties and fertilizer.\n",
    "\n",
    ">Do agricultural loans to women differ somehow from similar loans to men? It may be that women are commercializing household gardens, which in the data base may be described differently from loans to men\n",
    "\n",
    ">Some loans expire, having never been funded by Kiva donors.  Do these loans or the applicants somehow differ from the loans that recieve Kiva funding? It may be that there is *something about the loan that raises doubts* about the use to which the funds would go.\n",
    "\n",
    ">Is there anything that characterizes the loans or borrowers who end up in default? Are they *randomly distributed among loans of all sizes*?  Are they *geographically clustered*?  I predict that defaults are not randomly distributed among all loans, but I do not yet see a basis for making a distinct hypothesis as to how they might be characterized.\n",
    "\n",
    ">How do loans with multiple borrowers differ from loans with only a single borrower?  It may be that these loans are for more-complicated undertakings, ones that necessitate a larger social group or have a complicated administrative structure.\n",
    "\n",
    ">How are the funded loans distributed around Kenya? The increase in agriculture-sector loans to womend suggests that there may be increasing focus on rural areas.\n",
    "\n",
    "**Narrative**:\n",
    ">The Kiva loan program represents thousands of loans within Kenya.  These loans are generally small (<500 USD) and impact a range of sectors in Kenyan society.  The default rate on loans is about 5%, and men and women borrowers have similar risk of defaults.  Recently, more loans have been given to women in the agricultural sector. These loans appear to be driving the overall increase in Kiva loans over the last two years.  It would be interesting to know how these agricultural loans to women are being used, and if they indicate an increasingly rural emphasis in Kiva microloan activity.\n",
    "\n",
    "\n"
   ]
  }
 ],
 "metadata": {
  "kernelspec": {
   "display_name": "Python 2",
   "language": "python",
   "name": "python2"
  },
  "language_info": {
   "codemirror_mode": {
    "name": "ipython",
    "version": 2
   },
   "file_extension": ".py",
   "mimetype": "text/x-python",
   "name": "python",
   "nbconvert_exporter": "python",
   "pygments_lexer": "ipython2",
   "version": "2.7.11"
  }
 },
 "nbformat": 4,
 "nbformat_minor": 0
}
